{
 "cells": [
  {
   "cell_type": "markdown",
   "metadata": {},
   "source": [
    "# Logistic Regression Lab"
   ]
  },
  {
   "cell_type": "markdown",
   "metadata": {},
   "source": [
    "### Part 1: Load  data\n",
    "\n",
    "Import \"bank-data.csv\""
   ]
  },
  {
   "cell_type": "code",
   "execution_count": null,
   "metadata": {},
   "outputs": [],
   "source": [
    "import pandas as pd\n",
    "bankData = pd.read_csv('bank-data.csv', sep = ';')\n",
    "bankData.head()"
   ]
  },
  {
   "cell_type": "markdown",
   "metadata": {},
   "source": [
    "### Part 2: Preprocess data"
   ]
  },
  {
   "cell_type": "markdown",
   "metadata": {},
   "source": [
    "#### 2.1 Binary encoding\n",
    "\n",
    "Use LabelEncoder to encode the following columns:\n",
    "- y\n",
    "- default\n",
    "- housing\n",
    "- loan"
   ]
  },
  {
   "cell_type": "code",
   "execution_count": null,
   "metadata": {},
   "outputs": [],
   "source": [
    "from sklearn.preprocessing import LabelEncoder\n",
    "le = LabelEncoder()\n",
    "\n",
    "#example\n",
    "bankData['y'] = le.fit_transform(bankData['y'])\n",
    "bankData.head()"
   ]
  },
  {
   "cell_type": "code",
   "execution_count": null,
   "metadata": {},
   "outputs": [],
   "source": [
    "#Encode the remaining columns\n"
   ]
  },
  {
   "cell_type": "markdown",
   "metadata": {},
   "source": [
    "#### 2.2 Convert categorical variables into dummy columns\n",
    "\n",
    "(1) Use pd.get_dummies to convert the following categorical variales into dummy columns\n",
    "- job\n",
    "- maritial\n",
    "- education\n",
    "- contact\n",
    "- month\n",
    "- poutcome\n",
    "\n",
    "(2) Drop columns that have been converted"
   ]
  },
  {
   "cell_type": "code",
   "execution_count": null,
   "metadata": {},
   "outputs": [],
   "source": [
    "#example\n",
    "bankData = pd.concat([bankData,pd.get_dummies(bankData['job'],prefix='job')],axis=1)\n",
    "bankData = bankData.drop(columns=['job'])\n",
    "bankData.head()"
   ]
  },
  {
   "cell_type": "code",
   "execution_count": null,
   "metadata": {},
   "outputs": [],
   "source": [
    "#Convert and drop the remaining columns\n"
   ]
  },
  {
   "cell_type": "code",
   "execution_count": null,
   "metadata": {},
   "outputs": [],
   "source": [
    "bankData.info()"
   ]
  },
  {
   "cell_type": "markdown",
   "metadata": {},
   "source": [
    "#### 2.3 Train/Test separation\n",
    "\n",
    "Perform hold-out method\n",
    "- 60% training set\n",
    "- 40% testing set"
   ]
  },
  {
   "cell_type": "code",
   "execution_count": null,
   "metadata": {},
   "outputs": [],
   "source": [
    "bankData_train = bankData.sample(frac = 0.6)\n",
    "bankData_test = bankData.drop(bankData_train.index)\n",
    "print(pd.crosstab(bankData_train['y'],columns = 'count'))\n",
    "print(pd.crosstab(bankData_test['y'],columns = 'count'))"
   ]
  },
  {
   "cell_type": "markdown",
   "metadata": {},
   "source": [
    "##### X/y separation"
   ]
  },
  {
   "cell_type": "code",
   "execution_count": null,
   "metadata": {},
   "outputs": [],
   "source": [
    "bankData_train_y = bankData_train['y']\n",
    "bankData_train_X = bankData_train.copy()\n",
    "del bankData_train_X['y']\n",
    "\n",
    "bankData_test_y = bankData_test['y']\n",
    "bankData_test_X = bankData_test.copy()\n",
    "del bankData_test_X['y']"
   ]
  },
  {
   "cell_type": "markdown",
   "metadata": {},
   "source": [
    "### Part 3: Train a logistic regression model"
   ]
  },
  {
   "cell_type": "code",
   "execution_count": null,
   "metadata": {},
   "outputs": [],
   "source": [
    "from sklearn import linear_model\n",
    "\n",
    "lr = linear_model.LogisticRegression()\n",
    "lr.fit(bankData_train_X, bankData_train_y)"
   ]
  },
  {
   "cell_type": "markdown",
   "metadata": {},
   "source": [
    "### Part 4: Model Evaluation\n",
    "\n",
    "Evaluation metrics\n",
    "- confusion metrix\n",
    "- accuracy\n",
    "- precision, recall, f1-score"
   ]
  },
  {
   "cell_type": "code",
   "execution_count": null,
   "metadata": {},
   "outputs": [],
   "source": [
    "#confusion metrix\n",
    "res = lr.predict(bankData_test_X)\n",
    "pd.crosstab(bankData_test_y, res)"
   ]
  },
  {
   "cell_type": "code",
   "execution_count": null,
   "metadata": {},
   "outputs": [],
   "source": [
    "from sklearn.metrics import classification_report\n",
    "from sklearn.metrics import accuracy_score\n",
    "\n",
    "print(\"Accuracy:\\t %.3f\" %accuracy_score(bankData_test_y, res))\n",
    "print(classification_report(bankData_test_y, res))"
   ]
  },
  {
   "cell_type": "markdown",
   "metadata": {},
   "source": [
    "### Part 5: Model tuning\n",
    "\n",
    "#### Note:\n",
    "\n",
    "After building the classifier, try answering the following questions.\n",
    "\n",
    "1. What is the Accuracy Score?\n",
    "2. If you change your preprosessing method, can you improve the model?\n",
    "3. If you change your parameters setting, can you improve the model?\n",
    "\n",
    "You can look at the parameters and functions of Logistic Regression at http://scikit-learn.org/stable/modules/generated/sklearn.linear_model.LogisticRegression.html"
   ]
  },
  {
   "cell_type": "code",
   "execution_count": null,
   "metadata": {},
   "outputs": [],
   "source": []
  }
 ],
 "metadata": {
  "kernelspec": {
   "display_name": "Python 3 (ipykernel)",
   "language": "python",
   "name": "python3"
  },
  "language_info": {
   "codemirror_mode": {
    "name": "ipython",
    "version": 3
   },
   "file_extension": ".py",
   "mimetype": "text/x-python",
   "name": "python",
   "nbconvert_exporter": "python",
   "pygments_lexer": "ipython3",
   "version": "3.9.12"
  }
 },
 "nbformat": 4,
 "nbformat_minor": 2
}
