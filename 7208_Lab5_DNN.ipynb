{
  "cells": [
    {
      "cell_type": "markdown",
      "metadata": {
        "id": "view-in-github",
        "colab_type": "text"
      },
      "source": [
        "<a href=\"https://colab.research.google.com/github/tongza331/CPE393_Coding_in_Ai/blob/main/7208_Lab5_DNN.ipynb\" target=\"_parent\"><img src=\"https://colab.research.google.com/assets/colab-badge.svg\" alt=\"Open In Colab\"/></a>"
      ]
    },
    {
      "cell_type": "markdown",
      "metadata": {
        "id": "U1wyiGyBbFQM"
      },
      "source": [
        "# Lab5 - Training Deep Neural Network\n",
        "- Patcharaporn Sirimom, 62070507208\n",
        "\n",
        "Name your file to 7208.ipynb\n",
        "\n",
        "## Lab Instruction \n",
        "\n",
        "In this lab, you will learn how to train a deep fully-connected neural network with Keras and Tensorflow. MNIST data, a Keras built-in dataset, will be used.\n",
        "\n",
        "See http://yann.lecun.com/exdb/mnist\n",
        "\n",
        "**Note:**\n",
        "Before initiating on any machine learning/deep learning project, consider the following:\n",
        "1. What is your problem and what data do you have?\n",
        "- What kind of issue do you want to solve? \n",
        "- What data do you have? \n",
        "- What are you trying to predict? \n",
        "- Is there enough information in your data for your model to predict the expected output?\n",
        "\n",
        "2. How do you measure success?\n",
        "- What do you mean by \"good model performance\"? How do you know if your model is ready for deployment?\n",
        "- Accuracy? What about precision and recall? AUC? ROC?\n",
        "\n",
        "3. What is your method of evaluation?\n",
        "- Holding method? CV? Iterate CV?\n",
        "\n",
        "4. How should your data be preprocessed before being fed into a model?\n",
        "\n",
        "5. What is your baseline? What is a model structure? How does your last layer look? What is the loss function? What is the optimization function? \n",
        "\n",
        "6. Develop an overfit model to determine the size of the model required by \n",
        "<br> 6.1 Add more layers\n",
        "<br> 6.2 Increase the number of neurons\n",
        "<br> 6.3 Train more epochs\n",
        "\n",
        "7. Fine-tune your model to achieve a balance of underfit and overfit performance (optimization vs generalization)\n",
        "\n",
        "\n",
        "**Exploding Gradients :**\n",
        "\n",
        "Exploding gradients can produce an unstable network that, at best, cannot learn from the training data and, at worst, produces NaN weight values that cannot be updated.\n",
        "\n",
        "Ref : : https://machinelearningmastery.com/exploding-gradients-in-neural-networks/?fbclid=IwAR1DOg3pD0RSaxpHMZEEtIqxeCDMsvwkf-OxMb7HL5eK7_qLc4uLNEYcJus\n",
        "\n",
        "\n",
        "\n",
        "First, import all necessary libraries to this project."
      ]
    },
    {
      "cell_type": "code",
      "execution_count": null,
      "metadata": {
        "id": "2gEZyZNEbFQN"
      },
      "outputs": [],
      "source": [
        "import keras\n",
        "import numpy as np"
      ]
    },
    {
      "cell_type": "markdown",
      "metadata": {
        "id": "jMwbMSsUbFQR"
      },
      "source": [
        "### 1. Load MNIST data"
      ]
    },
    {
      "cell_type": "code",
      "execution_count": null,
      "metadata": {
        "id": "DGVpr05_bFQS"
      },
      "outputs": [],
      "source": [
        "from keras.datasets import mnist\n",
        "\n",
        "### Load data ###\n",
        "(train_images, train_labels), (test_images, test_labels) = mnist.load_data()\n",
        "#################"
      ]
    },
    {
      "cell_type": "markdown",
      "metadata": {
        "id": "qMnCLh53bFQW"
      },
      "source": [
        "Learn more about the data. For example:\n",
        "- The distribution of target classes. \n",
        "- The characteristic of the input data. How does it look like? \n",
        "- etc."
      ]
    },
    {
      "cell_type": "code",
      "execution_count": null,
      "metadata": {
        "colab": {
          "base_uri": "https://localhost:8080/"
        },
        "id": "J_zHHa9qbFQY",
        "outputId": "4caec31e-ebd8-4cdb-c338-564bca48aa03"
      },
      "outputs": [
        {
          "output_type": "execute_result",
          "data": {
            "text/plain": [
              "[0, 1, 2, 3, 4, 5, 6, 7, 8, 9]"
            ]
          },
          "metadata": {},
          "execution_count": 3
        }
      ],
      "source": [
        "## The distribution of target classes.\n",
        "target_class = []\n",
        "for i in train_labels:\n",
        "  if i not in target_class:\n",
        "    target_class.append(i)\n",
        "\n",
        "target_class.sort()\n",
        "target_class"
      ]
    },
    {
      "cell_type": "code",
      "source": [
        "import matplotlib.pyplot as plt\n",
        "%matplotlib inline\n",
        "\n",
        "print('Train_set Label type: %s'%str(train_labels.shape))\n",
        "plt.hist(train_labels, bins=19)\n",
        "plt.title('train_labels')\n",
        "plt.xlabel('target class')\n",
        "plt.ylabel('count')\n",
        "plt.show()"
      ],
      "metadata": {
        "colab": {
          "base_uri": "https://localhost:8080/",
          "height": 312
        },
        "id": "iQd-YnjlE9t9",
        "outputId": "c9a54b3a-195e-408c-a76e-d0af3fea3232"
      },
      "execution_count": null,
      "outputs": [
        {
          "output_type": "stream",
          "name": "stdout",
          "text": [
            "Train_set Label type: (60000,)\n"
          ]
        },
        {
          "output_type": "display_data",
          "data": {
            "text/plain": [
              "<Figure size 432x288 with 1 Axes>"
            ],
            "image/png": "[encoded data removed]"
          },
          "metadata": {
            "needs_background": "light"
          }
        }
      ]
    },
    {
      "cell_type": "code",
      "source": [
        "print('Test_set Label type: %s'%str(test_labels.shape))\n",
        "plt.hist(test_labels, bins=19)\n",
        "plt.title('test_labels')\n",
        "plt.xlabel('target class')\n",
        "plt.ylabel('count')\n",
        "plt.show()"
      ],
      "metadata": {
        "colab": {
          "base_uri": "https://localhost:8080/",
          "height": 312
        },
        "id": "ATDrqVGHI-P3",
        "outputId": "11d91593-39ef-400a-801e-4be29bcbcdab"
      },
      "execution_count": null,
      "outputs": [
        {
          "output_type": "stream",
          "name": "stdout",
          "text": [
            "Test_set Label type: (10000,)\n"
          ]
        },
        {
          "output_type": "display_data",
          "data": {
            "text/plain": [
              "<Figure size 432x288 with 1 Axes>"
            ],
            "image/png": "[encoded data removed]"
          },
          "metadata": {
            "needs_background": "light"
          }
        }
      ]
    },
    {
      "cell_type": "code",
      "source": [
        "# Class\n",
        "print('Feature Type: %s' %type(train_images))\n",
        "print('Label Type: %s' %type(train_labels))"
      ],
      "metadata": {
        "colab": {
          "base_uri": "https://localhost:8080/"
        },
        "id": "iZ7Y2fPqF_4D",
        "outputId": "7fdd7114-8ad3-4c42-a261-5026e968feb0"
      },
      "execution_count": null,
      "outputs": [
        {
          "output_type": "stream",
          "name": "stdout",
          "text": [
            "Feature Type: <class 'numpy.ndarray'>\n",
            "Label Type: <class 'numpy.ndarray'>\n"
          ]
        }
      ]
    },
    {
      "cell_type": "code",
      "source": [
        "# Shape\n",
        "print('Train_set Feature shape: %s'%str(train_images.shape))\n",
        "print('Train_set Label type: %s'%str(train_labels.shape))\n",
        "print('Test_set Feature shape: %s'%str(test_images.shape))\n",
        "print('Test_set Label type: %s'%str(test_labels.shape))"
      ],
      "metadata": {
        "colab": {
          "base_uri": "https://localhost:8080/"
        },
        "id": "-mXYZyCTF50f",
        "outputId": "8802e4fb-ff9e-45f9-9ec5-ada575dc9bd5"
      },
      "execution_count": null,
      "outputs": [
        {
          "output_type": "stream",
          "name": "stdout",
          "text": [
            "Train_set Feature shape: (60000, 28, 28)\n",
            "Train_set Label type: (60000,)\n",
            "Test_set Feature shape: (10000, 28, 28)\n",
            "Test_set Label type: (10000,)\n"
          ]
        }
      ]
    },
    {
      "cell_type": "code",
      "source": [
        "# Type\n",
        "print('Feature data type: %s'%train_images.dtype)\n",
        "print('Label data type: %s'%train_labels.dtype)"
      ],
      "metadata": {
        "colab": {
          "base_uri": "https://localhost:8080/"
        },
        "id": "vboBl4GCGBJi",
        "outputId": "0619106b-b487-4a9a-d4c5-a3bdece16bdd"
      },
      "execution_count": null,
      "outputs": [
        {
          "output_type": "stream",
          "name": "stdout",
          "text": [
            "Feature data type: uint8\n",
            "Label data type: uint8\n"
          ]
        }
      ]
    },
    {
      "cell_type": "markdown",
      "metadata": {
        "id": "b1YkEJb1bFQb"
      },
      "source": [
        "### 2. Preprocess a data"
      ]
    },
    {
      "cell_type": "code",
      "execution_count": null,
      "metadata": {
        "id": "fGAIf_5mbFQc"
      },
      "outputs": [],
      "source": [
        "# Reshape and Normalize\n",
        "train_images = train_images.reshape(60000, 28*28)\n",
        "train_images = train_images.astype('float32')/255\n",
        "\n",
        "test_images = test_images.reshape(10000, 28*28)\n",
        "test_images = test_images.astype('float32')/255"
      ]
    },
    {
      "cell_type": "code",
      "source": [
        "import tensorflow \n",
        "from tensorflow.keras.utils import to_categorical\n",
        "\n",
        "train_labels = to_categorical(train_labels)\n",
        "test_labels = to_categorical(test_labels)"
      ],
      "metadata": {
        "id": "MXJx3QmSKl3P"
      },
      "execution_count": null,
      "outputs": []
    },
    {
      "cell_type": "code",
      "source": [
        "test_labels"
      ],
      "metadata": {
        "colab": {
          "base_uri": "https://localhost:8080/"
        },
        "id": "jQ4cNsd7Kn0D",
        "outputId": "2853546d-89ba-49a5-f6e6-1f0d64c902d9"
      },
      "execution_count": null,
      "outputs": [
        {
          "output_type": "execute_result",
          "data": {
            "text/plain": [
              "array([[0., 0., 0., ..., 1., 0., 0.],\n",
              "       [0., 0., 1., ..., 0., 0., 0.],\n",
              "       [0., 1., 0., ..., 0., 0., 0.],\n",
              "       ...,\n",
              "       [0., 0., 0., ..., 0., 0., 0.],\n",
              "       [0., 0., 0., ..., 0., 0., 0.],\n",
              "       [0., 0., 0., ..., 0., 0., 0.]], dtype=float32)"
            ]
          },
          "metadata": {},
          "execution_count": 11
        }
      ]
    },
    {
      "cell_type": "markdown",
      "metadata": {
        "id": "borgvpZnbFQf"
      },
      "source": [
        "### 3. Build a model \n",
        "\n",
        "Build a five-fully connected layer with 128 neurons each, *elu* as an activation function, and *he initialier* as a weight initialier function using `Sequential()`.\n",
        " \n",
        "The output is a probability for each target class using *softmax* as an activation function. We will use the *Adam optimizer* with the *cross-entropy loss function*."
      ]
    },
    {
      "cell_type": "code",
      "execution_count": null,
      "metadata": {
        "id": "1UQHj70jbFQg"
      },
      "outputs": [],
      "source": [
        "from keras import models\n",
        "from keras import layers"
      ]
    },
    {
      "cell_type": "code",
      "source": [
        "def model_network():\n",
        "  network = models.Sequential()\n",
        "  network.add(layers.Dense(128, activation='elu' ,input_shape=(28*28,)))\n",
        "  network.add(layers.Dense(128, activation='elu'))\n",
        "  network.add(layers.Dense(128, activation='elu'))\n",
        "  network.add(layers.Dense(128, activation='elu'))\n",
        "  network.add(layers.Dense(128, activation='elu'))\n",
        "  network.add(layers.Dense(128, activation='elu'))\n",
        "  network.add(layers.Dense(10, activation='softmax'))\n",
        "  network.compile(optimizer='adam',\n",
        "                loss='categorical_crossentropy',\n",
        "                metrics=['accuracy'])\n",
        "  return network"
      ],
      "metadata": {
        "id": "-D9I7sxSK1Em"
      },
      "execution_count": null,
      "outputs": []
    },
    {
      "cell_type": "markdown",
      "metadata": {
        "id": "sXlzipA9bFQj"
      },
      "source": [
        "### 4. Train the model\n",
        "\n",
        "We will train the model with 10 epochs and a batch size of 128.\n",
        "\n",
        "To avoid information leakage to the test set, which would lead to overfitting, we will divide the data into three sets: train, test, and validation. Hence, we will divide the training data into 90% train set and 10% validation set.\n",
        "\n",
        "Because the keras `validation_split` argument split the last 10% of data to be validation set, the target class may not be evenly distributed in validation set. As a result, we must use sklearn's `train_test_split` function to divide the data into train and validation sets.\n",
        "\n",
        "Hint: Use the parameter `stratify = y` in `train_test_split()`\n",
        "See http://scikit-learn.org/stable/modules/generated/sklearn.model_selection.train_test_split.html"
      ]
    },
    {
      "cell_type": "code",
      "execution_count": null,
      "metadata": {
        "id": "N62JfVhZbFQl"
      },
      "outputs": [],
      "source": [
        "from sklearn.model_selection import train_test_split\n",
        "import numpy as np\n",
        "\n",
        "### Split data ###\n",
        "test_size = 0.1\n",
        "X_train, X_val, y_train, y_val = train_test_split(train_images, train_labels, test_size=test_size, stratify=train_labels)\n",
        "\n",
        "## X is images, y is label\n",
        "##################"
      ]
    },
    {
      "cell_type": "code",
      "execution_count": null,
      "metadata": {
        "colab": {
          "base_uri": "https://localhost:8080/"
        },
        "id": "dD9ViZ2WbFQn",
        "outputId": "b609702c-0df1-465c-c2e9-c7ae061041de"
      },
      "outputs": [
        {
          "output_type": "stream",
          "name": "stdout",
          "text": [
            "Epoch 1/10\n",
            "422/422 [==============================] - 8s 17ms/step - loss: 0.2832 - accuracy: 0.9136 - val_loss: 0.1693 - val_accuracy: 0.9482\n",
            "Epoch 2/10\n",
            "422/422 [==============================] - 6s 15ms/step - loss: 0.1355 - accuracy: 0.9576 - val_loss: 0.1276 - val_accuracy: 0.9605\n",
            "Epoch 3/10\n",
            "422/422 [==============================] - 6s 15ms/step - loss: 0.1024 - accuracy: 0.9673 - val_loss: 0.1233 - val_accuracy: 0.9600\n",
            "Epoch 4/10\n",
            "422/422 [==============================] - 5s 12ms/step - loss: 0.0805 - accuracy: 0.9738 - val_loss: 0.0892 - val_accuracy: 0.9710\n",
            "Epoch 5/10\n",
            "422/422 [==============================] - 3s 8ms/step - loss: 0.0713 - accuracy: 0.9770 - val_loss: 0.0987 - val_accuracy: 0.9700\n",
            "Epoch 6/10\n",
            "422/422 [==============================] - 3s 8ms/step - loss: 0.0550 - accuracy: 0.9819 - val_loss: 0.0936 - val_accuracy: 0.9710\n",
            "Epoch 7/10\n",
            "422/422 [==============================] - 4s 8ms/step - loss: 0.0490 - accuracy: 0.9840 - val_loss: 0.1141 - val_accuracy: 0.9663\n",
            "Epoch 8/10\n",
            "422/422 [==============================] - 3s 8ms/step - loss: 0.0454 - accuracy: 0.9851 - val_loss: 0.1080 - val_accuracy: 0.9695\n",
            "Epoch 9/10\n",
            "422/422 [==============================] - 3s 8ms/step - loss: 0.0368 - accuracy: 0.9879 - val_loss: 0.0914 - val_accuracy: 0.9738\n",
            "Epoch 10/10\n",
            "422/422 [==============================] - 3s 8ms/step - loss: 0.0347 - accuracy: 0.9882 - val_loss: 0.1230 - val_accuracy: 0.9665\n"
          ]
        }
      ],
      "source": [
        "### Fit the model ###\n",
        "network1 = model_network()\n",
        "history = network1.fit(X_train, y_train, epochs=10, batch_size=128 ,validation_data=(X_val, y_val))\n",
        "#####################"
      ]
    },
    {
      "cell_type": "code",
      "source": [
        "# The function argument is the model's history during the training process.\n",
        "def plot_loss_fn(history):\n",
        "    loss = history.history['loss']\n",
        "    val_loss = history.history['val_loss']\n",
        "\n",
        "    epochs = range(1, len(loss) + 1)\n",
        "\n",
        "    plt.plot(epochs, loss, 'orange', label='Training loss')\n",
        "    plt.plot(epochs, val_loss, 'b', label='Validation loss')\n",
        "    plt.title('Training and validation loss')\n",
        "    plt.xlabel('Epochs')\n",
        "    plt.ylabel('Loss')\n",
        "    plt.legend()\n",
        "    \n",
        "def plot_acc_fn(history):\n",
        "\n",
        "    acc = history.history['accuracy']\n",
        "    val_acc = history.history['val_accuracy']\n",
        "    \n",
        "    epochs = range(1, len(acc) + 1)\n",
        "\n",
        "    plt.plot(epochs, acc, 'orange', label='Training acc')\n",
        "    plt.plot(epochs, val_acc, 'b', label='Validation acc')\n",
        "    plt.title('Training and validation accuracy')\n",
        "    plt.xlabel('Epochs')\n",
        "    plt.ylabel('Accuracy')\n",
        "    plt.legend()"
      ],
      "metadata": {
        "id": "ZbIBgcXZYP30"
      },
      "execution_count": null,
      "outputs": []
    },
    {
      "cell_type": "code",
      "source": [
        "plot_loss_fn(history)"
      ],
      "metadata": {
        "colab": {
          "base_uri": "https://localhost:8080/",
          "height": 295
        },
        "id": "YL-OlM2uYSKh",
        "outputId": "b43acb5d-0be3-402d-845a-208dfb8a8ef9"
      },
      "execution_count": null,
      "outputs": [
        {
          "output_type": "display_data",
          "data": {
            "text/plain": [
              "<Figure size 432x288 with 1 Axes>"
            ],
            "image/png": "[encoded data removed]"
          },
          "metadata": {
            "needs_background": "light"
          }
        }
      ]
    },
    {
      "cell_type": "code",
      "source": [
        "plot_acc_fn(history)"
      ],
      "metadata": {
        "colab": {
          "base_uri": "https://localhost:8080/",
          "height": 295
        },
        "id": "TQvQCzVDYr-U",
        "outputId": "e9640b0a-7798-4dc9-b80b-24d3c3ed32d5"
      },
      "execution_count": null,
      "outputs": [
        {
          "output_type": "display_data",
          "data": {
            "text/plain": [
              "<Figure size 432x288 with 1 Axes>"
            ],
            "image/png": "[encoded data removed]"
          },
          "metadata": {
            "needs_background": "light"
          }
        }
      ]
    },
    {
      "cell_type": "markdown",
      "metadata": {
        "id": "xqVNtsgBbFQq"
      },
      "source": [
        "### 5. Evalute the model\n",
        "\n",
        "Consider the metric you want to use to evaluate/measure the performance of your model in order to answer the following questions:\n",
        "1. Is the model overfit or underfit?\n",
        "2. At what epoch/iteration does it converge or does the model overfit?\n",
        "3. How does the model perform across all data classes? What is your model's overall performance?\n"
      ]
    },
    {
      "cell_type": "code",
      "execution_count": null,
      "metadata": {
        "colab": {
          "base_uri": "https://localhost:8080/"
        },
        "id": "3-SD-f9XbFQr",
        "outputId": "240a8e2e-4f14-4a76-f542-9b75deafd288"
      },
      "outputs": [
        {
          "output_type": "stream",
          "name": "stdout",
          "text": [
            "313/313 [==============================] - 1s 2ms/step - loss: 0.1145 - accuracy: 0.9691\n",
            "Test Loss: 0.11445952206850052\n",
            "Test Accuracy: 0.9690999984741211\n"
          ]
        }
      ],
      "source": [
        "### Evaluate the model ###\n",
        "test_loss, test_acc = network1.evaluate(test_images, test_labels)\n",
        "print('Test Loss: %s\\nTest Accuracy: %s' % (test_loss,test_acc))\n",
        "##########################"
      ]
    },
    {
      "cell_type": "markdown",
      "source": [
        "Answer\n",
        "Answer\n",
        "1. Model overfit\n",
        "2. Epoch at 6\n",
        "3. Accuracy 97.44%"
      ],
      "metadata": {
        "id": "EqEALTg4KE4B"
      }
    },
    {
      "cell_type": "markdown",
      "metadata": {
        "id": "MlI3w3wqbFQu"
      },
      "source": [
        "### 6. Tune the model \n",
        "\n",
        "Try to tune your model by: \n",
        "1. Try increasing the number of epochs to see how it affects your model? Does the results improve or become overfit?\n",
        "2. Apply an early stop. What do you get as a result? (See also https://chrisalbon.com/deep_learning/keras/neural_network_early_stopping/)\n",
        "4. Try adding regularizers l1 or l2 (or simutaneus l1, l2) to your model. How does it affect your model?\n",
        "5. Try adding dropout (any dropout rate) with every layer. What effect does it have on your model? Does it help in the reduction of overfit?\n",
        "\n",
        "*In the discussion section, discuss the result of these steps*\n",
        "\n",
        "After completing the preceding steps, **try to achieve the highest precision** by tuning the model using what you have already learned in class. You can experiment with changing the model's structure by increasing or decreasing the number of layers and neuron nodes in each layer. (Use only fully-connected layers for now; no other types of layers!)\n",
        "\n",
        "**The MNIST model's current highest precision is around 99.8%** (Just try as hard as you can; don't be concerned if you don't achieve this level of precision.)\n",
        "\n",
        "**In each tuning step, write down what you're doing and why**"
      ]
    },
    {
      "cell_type": "markdown",
      "source": [
        "**1. Try increasing the number of epochs to see how it affects your model? Does the results improve or become overfit?**"
      ],
      "metadata": {
        "id": "12F0AFVjKtTs"
      }
    },
    {
      "cell_type": "code",
      "execution_count": null,
      "metadata": {
        "id": "8SIXC6klbFQu",
        "colab": {
          "base_uri": "https://localhost:8080/"
        },
        "outputId": "f50e66ee-b415-40fa-967c-1990a547fecc"
      },
      "outputs": [
        {
          "output_type": "stream",
          "name": "stdout",
          "text": [
            "Epoch 1/20\n",
            "422/422 [==============================] - 5s 10ms/step - loss: 0.2929 - accuracy: 0.9109 - val_loss: 0.1661 - val_accuracy: 0.9472\n",
            "Epoch 2/20\n",
            "422/422 [==============================] - 4s 9ms/step - loss: 0.1395 - accuracy: 0.9566 - val_loss: 0.1511 - val_accuracy: 0.9515\n",
            "Epoch 3/20\n",
            "422/422 [==============================] - 4s 9ms/step - loss: 0.1013 - accuracy: 0.9682 - val_loss: 0.1191 - val_accuracy: 0.9645\n",
            "Epoch 4/20\n",
            "422/422 [==============================] - 3s 8ms/step - loss: 0.0799 - accuracy: 0.9737 - val_loss: 0.1113 - val_accuracy: 0.9648\n",
            "Epoch 5/20\n",
            "422/422 [==============================] - 3s 8ms/step - loss: 0.0681 - accuracy: 0.9778 - val_loss: 0.1101 - val_accuracy: 0.9655\n",
            "Epoch 6/20\n",
            "422/422 [==============================] - 3s 8ms/step - loss: 0.0556 - accuracy: 0.9818 - val_loss: 0.1232 - val_accuracy: 0.9660\n",
            "Epoch 7/20\n",
            "422/422 [==============================] - 3s 8ms/step - loss: 0.0507 - accuracy: 0.9836 - val_loss: 0.1112 - val_accuracy: 0.9677\n",
            "Epoch 8/20\n",
            "422/422 [==============================] - 3s 8ms/step - loss: 0.0468 - accuracy: 0.9846 - val_loss: 0.0968 - val_accuracy: 0.9705\n",
            "Epoch 9/20\n",
            "422/422 [==============================] - 3s 8ms/step - loss: 0.0381 - accuracy: 0.9877 - val_loss: 0.0842 - val_accuracy: 0.9753\n",
            "Epoch 10/20\n",
            "422/422 [==============================] - 3s 8ms/step - loss: 0.0335 - accuracy: 0.9891 - val_loss: 0.0980 - val_accuracy: 0.9735\n",
            "Epoch 11/20\n",
            "422/422 [==============================] - 3s 8ms/step - loss: 0.0337 - accuracy: 0.9889 - val_loss: 0.1101 - val_accuracy: 0.9727\n",
            "Epoch 12/20\n",
            "422/422 [==============================] - 3s 8ms/step - loss: 0.0316 - accuracy: 0.9896 - val_loss: 0.1015 - val_accuracy: 0.9760\n",
            "Epoch 13/20\n",
            "422/422 [==============================] - 4s 8ms/step - loss: 0.0252 - accuracy: 0.9917 - val_loss: 0.1120 - val_accuracy: 0.9728\n",
            "Epoch 14/20\n",
            "422/422 [==============================] - 4s 9ms/step - loss: 0.0237 - accuracy: 0.9920 - val_loss: 0.1108 - val_accuracy: 0.9752\n",
            "Epoch 15/20\n",
            "422/422 [==============================] - 4s 8ms/step - loss: 0.0238 - accuracy: 0.9919 - val_loss: 0.1142 - val_accuracy: 0.9708\n",
            "Epoch 16/20\n",
            "422/422 [==============================] - 4s 9ms/step - loss: 0.0256 - accuracy: 0.9920 - val_loss: 0.0919 - val_accuracy: 0.9797\n",
            "Epoch 17/20\n",
            "422/422 [==============================] - 4s 8ms/step - loss: 0.0201 - accuracy: 0.9936 - val_loss: 0.1031 - val_accuracy: 0.9747\n",
            "Epoch 18/20\n",
            "422/422 [==============================] - 3s 8ms/step - loss: 0.0196 - accuracy: 0.9937 - val_loss: 0.1160 - val_accuracy: 0.9750\n",
            "Epoch 19/20\n",
            "422/422 [==============================] - 4s 10ms/step - loss: 0.0167 - accuracy: 0.9947 - val_loss: 0.1101 - val_accuracy: 0.9762\n",
            "Epoch 20/20\n",
            "422/422 [==============================] - 4s 9ms/step - loss: 0.0178 - accuracy: 0.9944 - val_loss: 0.1143 - val_accuracy: 0.9747\n"
          ]
        }
      ],
      "source": [
        "network2 = model_network()\n",
        "history2 = network2.fit(X_train, y_train, epochs=20, batch_size=128 ,validation_data=(X_val, y_val))"
      ]
    },
    {
      "cell_type": "code",
      "source": [
        "plot_loss_fn(history2)"
      ],
      "metadata": {
        "colab": {
          "base_uri": "https://localhost:8080/",
          "height": 295
        },
        "id": "fjzaPDOdLnF_",
        "outputId": "3114603b-2fc3-4420-beed-c6a4af006527"
      },
      "execution_count": null,
      "outputs": [
        {
          "output_type": "display_data",
          "data": {
            "text/plain": [
              "<Figure size 432x288 with 1 Axes>"
            ],
            "image/png": "[encoded data removed]"
          },
          "metadata": {
            "needs_background": "light"
          }
        }
      ]
    },
    {
      "cell_type": "code",
      "source": [
        "plot_acc_fn(history2)"
      ],
      "metadata": {
        "colab": {
          "base_uri": "https://localhost:8080/",
          "height": 295
        },
        "id": "XbOp7TfHLrtu",
        "outputId": "4b616ebd-1a24-4afc-837a-f103428bb982"
      },
      "execution_count": null,
      "outputs": [
        {
          "output_type": "display_data",
          "data": {
            "text/plain": [
              "<Figure size 432x288 with 1 Axes>"
            ],
            "image/png": "[encoded data removed]"
          },
          "metadata": {
            "needs_background": "light"
          }
        }
      ]
    },
    {
      "cell_type": "markdown",
      "source": [
        "Answer Question 6.1\n",
        "\n",
        "  Model become to overfit."
      ],
      "metadata": {
        "id": "SQZcly7lMWI2"
      }
    },
    {
      "cell_type": "markdown",
      "source": [
        "**2. Apply an early stop. What do you get as a result?**"
      ],
      "metadata": {
        "id": "YWjc3sDlQNCc"
      }
    },
    {
      "cell_type": "code",
      "source": [
        "from keras.preprocessing.text import Tokenizer\n",
        "from keras.callbacks import EarlyStopping, ModelCheckpoint\n",
        "\n",
        "keras_callbacks = [\n",
        "    EarlyStopping(monitor='val_loss', patience=2, mode='min', verbose=1),\n",
        "    # ModelCheckpoint(filepath='best_model.h5', monitor='val_accuracy', mode='max', verbose=1, save_best_only=True)\n",
        "]\n"
      ],
      "metadata": {
        "id": "Iddb1nSWQML9"
      },
      "execution_count": null,
      "outputs": []
    },
    {
      "cell_type": "code",
      "source": [
        "network3 = model_network()\n",
        "history3 = network3.fit(X_train, y_train, \n",
        "                       epochs=20, \n",
        "                       batch_size=128 ,\n",
        "                       validation_data=(X_val, y_val),\n",
        "                       callbacks=keras_callbacks,\n",
        "                       verbose=2\n",
        "                       )"
      ],
      "metadata": {
        "colab": {
          "base_uri": "https://localhost:8080/"
        },
        "id": "dxtNFZWjearg",
        "outputId": "c8b65bff-b25a-430d-9474-43874ef4142a"
      },
      "execution_count": null,
      "outputs": [
        {
          "output_type": "stream",
          "name": "stdout",
          "text": [
            "Epoch 1/20\n",
            "422/422 - 4s - loss: 0.2976 - accuracy: 0.9084 - val_loss: 0.2076 - val_accuracy: 0.9377 - 4s/epoch - 9ms/step\n",
            "Epoch 2/20\n",
            "422/422 - 3s - loss: 0.1406 - accuracy: 0.9559 - val_loss: 0.1492 - val_accuracy: 0.9522 - 3s/epoch - 7ms/step\n",
            "Epoch 3/20\n",
            "422/422 - 4s - loss: 0.1029 - accuracy: 0.9683 - val_loss: 0.1361 - val_accuracy: 0.9577 - 4s/epoch - 9ms/step\n",
            "Epoch 4/20\n",
            "422/422 - 3s - loss: 0.0850 - accuracy: 0.9733 - val_loss: 0.1163 - val_accuracy: 0.9633 - 3s/epoch - 7ms/step\n",
            "Epoch 5/20\n",
            "422/422 - 3s - loss: 0.0710 - accuracy: 0.9770 - val_loss: 0.1065 - val_accuracy: 0.9673 - 3s/epoch - 7ms/step\n",
            "Epoch 6/20\n",
            "422/422 - 3s - loss: 0.0593 - accuracy: 0.9807 - val_loss: 0.1051 - val_accuracy: 0.9702 - 3s/epoch - 7ms/step\n",
            "Epoch 7/20\n",
            "422/422 - 3s - loss: 0.0530 - accuracy: 0.9827 - val_loss: 0.1100 - val_accuracy: 0.9697 - 3s/epoch - 7ms/step\n",
            "Epoch 8/20\n",
            "422/422 - 3s - loss: 0.0449 - accuracy: 0.9855 - val_loss: 0.0974 - val_accuracy: 0.9730 - 3s/epoch - 7ms/step\n",
            "Epoch 9/20\n",
            "422/422 - 3s - loss: 0.0424 - accuracy: 0.9862 - val_loss: 0.0857 - val_accuracy: 0.9752 - 3s/epoch - 7ms/step\n",
            "Epoch 10/20\n",
            "422/422 - 3s - loss: 0.0369 - accuracy: 0.9878 - val_loss: 0.1097 - val_accuracy: 0.9695 - 3s/epoch - 7ms/step\n",
            "Epoch 11/20\n",
            "422/422 - 3s - loss: 0.0324 - accuracy: 0.9896 - val_loss: 0.1081 - val_accuracy: 0.9722 - 3s/epoch - 7ms/step\n",
            "Epoch 11: early stopping\n"
          ]
        }
      ]
    },
    {
      "cell_type": "code",
      "source": [
        "## history4 using early stopping. epoch=25\n",
        "plot_loss_fn(history3)"
      ],
      "metadata": {
        "colab": {
          "base_uri": "https://localhost:8080/",
          "height": 295
        },
        "id": "roOuyMKoel55",
        "outputId": "4ec1c29d-2df2-44f9-e312-7c815472d896"
      },
      "execution_count": null,
      "outputs": [
        {
          "output_type": "display_data",
          "data": {
            "text/plain": [
              "<Figure size 432x288 with 1 Axes>"
            ],
            "image/png": "[encoded data removed]"
          },
          "metadata": {
            "needs_background": "light"
          }
        }
      ]
    },
    {
      "cell_type": "code",
      "source": [
        "plot_acc_fn(history3)"
      ],
      "metadata": {
        "colab": {
          "base_uri": "https://localhost:8080/",
          "height": 295
        },
        "id": "hfL0U_6wWO3m",
        "outputId": "5180b273-dce8-4e24-969f-142fe9df3257"
      },
      "execution_count": null,
      "outputs": [
        {
          "output_type": "display_data",
          "data": {
            "text/plain": [
              "<Figure size 432x288 with 1 Axes>"
            ],
            "image/png": "[encoded data removed]"
          },
          "metadata": {
            "needs_background": "light"
          }
        }
      ]
    },
    {
      "cell_type": "code",
      "source": [
        "## history2 non use early stopping. epoch=25\n",
        "plot_loss_fn(history2)"
      ],
      "metadata": {
        "colab": {
          "base_uri": "https://localhost:8080/",
          "height": 295
        },
        "id": "HK3cvhhKig9-",
        "outputId": "9aebcfd4-2464-4b7e-e429-9f8ba44a299c"
      },
      "execution_count": null,
      "outputs": [
        {
          "output_type": "display_data",
          "data": {
            "text/plain": [
              "<Figure size 432x288 with 1 Axes>"
            ],
            "image/png": "[encoded data removed]"
          },
          "metadata": {
            "needs_background": "light"
          }
        }
      ]
    },
    {
      "cell_type": "code",
      "source": [
        "plot_acc_fn(history2)"
      ],
      "metadata": {
        "colab": {
          "base_uri": "https://localhost:8080/",
          "height": 295
        },
        "id": "j8Mdw2arWScS",
        "outputId": "3944dd68-bf3b-4afe-bccc-f9870a77b6dc"
      },
      "execution_count": null,
      "outputs": [
        {
          "output_type": "display_data",
          "data": {
            "text/plain": [
              "<Figure size 432x288 with 1 Axes>"
            ],
            "image/png": "[encoded data removed]"
          },
          "metadata": {
            "needs_background": "light"
          }
        }
      ]
    },
    {
      "cell_type": "code",
      "source": [
        "### Evaluate the model ###\n",
        "test_loss2, test_acc2 = network2.evaluate(test_images, test_labels)\n",
        "print('Test Loss of History2: %s\\nTest Accuracy: %s' % (test_loss2,test_acc2))\n",
        "\n",
        "test_loss, test_acc = network3.evaluate(test_images, test_labels)\n",
        "print('Test Loss of History4: %s\\nTest Accuracy: %s' % (test_loss,test_acc))\n",
        "##########################"
      ],
      "metadata": {
        "colab": {
          "base_uri": "https://localhost:8080/"
        },
        "id": "Zvg2px7_iNNF",
        "outputId": "e8228e86-25b4-4f21-b77e-39de544bee15"
      },
      "execution_count": null,
      "outputs": [
        {
          "output_type": "stream",
          "name": "stdout",
          "text": [
            "313/313 [==============================] - 1s 2ms/step - loss: 0.1157 - accuracy: 0.9776\n",
            "Test Loss of History2: 0.11565202474594116\n",
            "Test Accuracy: 0.9775999784469604\n",
            "313/313 [==============================] - 1s 2ms/step - loss: 0.1004 - accuracy: 0.9733\n",
            "Test Loss of History4: 0.10037780553102493\n",
            "Test Accuracy: 0.9732999801635742\n"
          ]
        }
      ]
    },
    {
      "cell_type": "markdown",
      "source": [
        "Answer Question 6.2\n",
        "\n",
        "At the epoch 6/25 is early stopping. And the history2 looking better than history model. Accuracy reduce to 96.72% but avoid overfitting model."
      ],
      "metadata": {
        "id": "3p9Ka_duhrxD"
      }
    },
    {
      "cell_type": "markdown",
      "source": [
        "**3. Try adding regularizers l1 or l2 (or simutaneus l1, l2) to your model. How does it affect your model?**"
      ],
      "metadata": {
        "id": "fawBWMrWi_i-"
      }
    },
    {
      "cell_type": "code",
      "source": [
        "## 3.1 Using L1\n",
        "from tensorflow.keras import layers\n",
        "from tensorflow.keras import regularizers\n",
        "\n",
        "def model_network_L1():\n",
        "  network = models.Sequential()\n",
        "  network.add(layers.Dense(128, activation='elu' ,input_shape=(28*28,)))\n",
        "  network.add(layers.Dense(128, activation='elu'))\n",
        "  network.add(layers.Dense(128, activation='elu'))\n",
        "  network.add(layers.Dense(128, activation='elu'))\n",
        "  network.add(layers.Dense(128, activation='elu'))\n",
        "  network.add(layers.Dense(128, activation='elu'))\n",
        "  network.add(layers.Dense(10, activation='softmax'))\n",
        "  network.compile(optimizer='adam',\n",
        "                loss='categorical_crossentropy',\n",
        "                metrics=['accuracy'])\n",
        "  return network\n"
      ],
      "metadata": {
        "id": "Gs4JOh2Bi-jD"
      },
      "execution_count": null,
      "outputs": []
    },
    {
      "cell_type": "markdown",
      "metadata": {
        "id": "FfjMAXtPbFQx"
      },
      "source": [
        "### 7. Final Evaluation\n",
        "\n",
        "After you've determined that your model is good enough to be deployed in an application, it's time to evaluate it with a test set to ensure that it generalizes well and does not overfit to the validation set."
      ]
    },
    {
      "cell_type": "code",
      "execution_count": null,
      "metadata": {
        "id": "5DvEAOG8bFQy"
      },
      "outputs": [],
      "source": []
    },
    {
      "cell_type": "markdown",
      "metadata": {
        "id": "b-DR7_KWbFQ0"
      },
      "source": [
        "### Result & Discussion \n",
        "\n",
        "- Summarize the main findings from this lab. Discuss what you did, what you got as a result, and why (support your reason)"
      ]
    },
    {
      "cell_type": "code",
      "execution_count": null,
      "metadata": {
        "id": "H3ru5d3ZbFQ2"
      },
      "outputs": [],
      "source": []
    },
    {
      "cell_type": "markdown",
      "metadata": {
        "id": "fW6u4OEmbFQ5"
      },
      "source": [
        "### 8. Play with your model\n",
        "\n",
        "1. Create a 28x28 pixel (any resolution) drawing in any drawing application (for example, Paint or Adobe Photoshop) with a black (#000000) background and white (#FFFFFF) paint.\n",
        "\n",
        "2. Draw three distinct single digit numbers from 0 to 9. The images should then be saved in PNG format.\n",
        "\n",
        "3. Install open-cv by\n",
        "    <br/>for local pc :\n",
        " (See https://pypi.org/project/opencv-python)  \n",
        "> `pip install opencv-python` <br/> or conda (See https://anaconda.org/conda-forge/opencv)\n",
        "\n",
        "    for colab use:\n",
        "```import cv2 as cv```\n",
        "\n",
        "4. Load your images to this IPython using the ```imread()``` function\n",
        "5. Preprocess the images in the same way you did during the development process.\n",
        "6. Feed your images to your best model.\n",
        "\n",
        "What class does your model predict? Is it correct? If not, why does it still get a wrong result when your model is more than 90% accurate?"
      ]
    },
    {
      "cell_type": "code",
      "execution_count": null,
      "metadata": {
        "id": "AAze8MBMbFQ6"
      },
      "outputs": [],
      "source": []
    },
    {
      "cell_type": "markdown",
      "metadata": {
        "id": "6hNnUrWobFQ8"
      },
      "source": [
        "### Challenges: Play with initializer\n",
        "\n",
        "- Build a two-layer neural network with any hyperparameter\n",
        "- Use or create a weight initializer function that sets all the weights to one. See: https://keras.io/initializers/\n",
        "- Discuss the results. What happened? and why?"
      ]
    },
    {
      "cell_type": "code",
      "execution_count": null,
      "metadata": {
        "id": "gSmsvxYAbFQ9"
      },
      "outputs": [],
      "source": []
    }
  ],
  "metadata": {
    "colab": {
      "provenance": [],
      "collapsed_sections": [],
      "include_colab_link": true
    },
    "kernelspec": {
      "display_name": "Python 3",
      "language": "python",
      "name": "python3"
    },
    "language_info": {
      "codemirror_mode": {
        "name": "ipython",
        "version": 3
      },
      "file_extension": ".py",
      "mimetype": "text/x-python",
      "name": "python",
      "nbconvert_exporter": "python",
      "pygments_lexer": "ipython3",
      "version": "3.8.5"
    }
  },
  "nbformat": 4,
  "nbformat_minor": 0
}