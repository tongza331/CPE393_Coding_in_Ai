{
 "cells": [
  {
   "cell_type": "markdown",
   "metadata": {
    "id": "qKRGnw6KE7kP"
   },
   "source": [
    "# Lab3 - Introduction to Deep Neural Network\n",
    "- Name1, Student's ID1\n",
    "- Name2, Student's ID2\n",
    "\n",
    "Name your file to 60_34xx_34xx.ipynb\n",
    "\n",
    "## Lab Instruction \n",
    "\n",
    "In this lab, you will learn how to build a simple fully-connected neural network with Keras and Tensorflow as the backend. We will experiment with MNIST data, which is a Keras built-in dataset.\n",
    "\n",
    "There are three questions to answer in this lab.\n",
    "\n",
    "See http://yann.lecun.com/exdb/mnist/ for data description.\n",
    "\n",
    "First, import all of the libraries that will be used in this lab."
   ]
  },
  {
   "cell_type": "code",
   "execution_count": null,
   "metadata": {
    "id": "I6MxiZ1sE7kT",
    "outputId": "b2936185-f963-4ea2-d0f9-37974495c916"
   },
   "outputs": [],
   "source": [
    "import keras\n",
    "import numpy as np"
   ]
  },
  {
   "cell_type": "code",
   "execution_count": null,
   "metadata": {
    "id": "A3JCixqME7kX"
   },
   "outputs": [],
   "source": [
    "from keras.datasets import mnist\n",
    "\n",
    "### Load Data ###\n",
    "\n",
    "#################"
   ]
  },
  {
   "cell_type": "markdown",
   "metadata": {
    "id": "Il7fXMD9E7kY"
   },
   "source": [
    "### 1. Learn About the Data\n",
    "\n",
    "Understand your data, such as its shape, format, datatype, structure, distribution, data classes, and so on."
   ]
  },
  {
   "cell_type": "code",
   "execution_count": null,
   "metadata": {
    "id": "BKp0VLZcE7kZ"
   },
   "outputs": [],
   "source": []
  },
  {
   "cell_type": "markdown",
   "metadata": {
    "id": "OQmeeqBnE7kZ"
   },
   "source": [
    "### 2. Build Neural Network Model\n",
    "\n",
    "Build a two-layer neural network (except for the input and output layers) using `Sequential()`\n",
    "( See https://keras.io/models/sequential ) \n",
    "> INPUT -> LINEAR -> RELU -> LINEAR -> SIGMOID\n",
    "\n",
    "with the hidden layer of size 512.\n",
    "\n",
    "See Keras Model: https://keras.io/models/about-keras-models/"
   ]
  },
  {
   "cell_type": "code",
   "execution_count": null,
   "metadata": {
    "id": "MpfJ0Hs5E7kb"
   },
   "outputs": [],
   "source": []
  },
  {
   "cell_type": "markdown",
   "metadata": {
    "id": "QkzGtDILE7kc"
   },
   "source": [
    "Compile your model with the following argument.\n",
    "\n",
    "```\n",
    "optimizer='sgd',\n",
    "loss='categorical_crossentropy',\n",
    "metrics=['accuracy']\n",
    "```"
   ]
  },
  {
   "cell_type": "code",
   "execution_count": null,
   "metadata": {
    "id": "UEaXkW6DE7kd"
   },
   "outputs": [],
   "source": []
  },
  {
   "cell_type": "markdown",
   "metadata": {
    "id": "bVNLLLHFE7kf"
   },
   "source": [
    "Let's see how our model looks using `.summary()`"
   ]
  },
  {
   "cell_type": "code",
   "execution_count": null,
   "metadata": {
    "id": "48OnGBKZE7kg"
   },
   "outputs": [],
   "source": []
  },
  {
   "cell_type": "markdown",
   "metadata": {
    "id": "TnkRRdWUE7kh"
   },
   "source": [
    "### 3. Preprocessing\n",
    "\n",
    "- Reshape (flatten) the features data and normalize the value to be between 0 and 1\n",
    "- One-hot the target data"
   ]
  },
  {
   "cell_type": "code",
   "execution_count": null,
   "metadata": {
    "id": "LRa5k3mZE7ki"
   },
   "outputs": [],
   "source": []
  },
  {
   "cell_type": "markdown",
   "metadata": {
    "id": "d7t-fWCWE7kj"
   },
   "source": [
    "### 4. Model Training \n",
    "\n",
    "Use `.fit()` to train your neural network model and return a record of accuracy and loss values for each epoch.\n",
    "\n",
    "We will train the model for 10 epochs (If you are confident in your computer's performance, you can train the model with more epochs.)\n",
    "\n",
    "We will train using the mini-batch method, with each batch containing 128 data points.\n",
    "\n",
    "To avoid overfitting with the test set, we will split the current training data into 90% for training and 10% for validating the model.\n",
    "\n",
    "This will take approximately one minute."
   ]
  },
  {
   "cell_type": "code",
   "execution_count": null,
   "metadata": {
    "id": "FTuvC2JgE7ko"
   },
   "outputs": [],
   "source": []
  },
  {
   "cell_type": "markdown",
   "metadata": {
    "id": "YbvM2VmgE7kp"
   },
   "source": [
    "We will plot the loss and accuracy of both the train and validate sets over iterations."
   ]
  },
  {
   "cell_type": "code",
   "execution_count": null,
   "metadata": {
    "id": "pZAvLvH4E7kq"
   },
   "outputs": [],
   "source": [
    "import  matplotlib.pyplot  as plt\n",
    "%matplotlib inline"
   ]
  },
  {
   "cell_type": "code",
   "execution_count": null,
   "metadata": {
    "id": "yK25hwMbE7kr"
   },
   "outputs": [],
   "source": [
    "# The function argument is the model's history during the training process.\n",
    "def plot_loss_fn(history):\n",
    "    loss = history.history['loss']\n",
    "    val_loss = history.history['val_loss']\n",
    "\n",
    "    epochs = range(1, len(loss) + 1)\n",
    "\n",
    "    plt.plot(epochs, loss, 'bo', label='Training loss')\n",
    "    plt.plot(epochs, val_loss, 'b', label='Validation loss')\n",
    "    plt.title('Training and validation loss')\n",
    "    plt.xlabel('Epochs')\n",
    "    plt.ylabel('Loss')\n",
    "    plt.legend()\n",
    "    \n",
    "def plot_acc_fn(history):\n",
    "\n",
    "    acc = history.history['acc']\n",
    "    val_acc = history.history['val_acc']\n",
    "    \n",
    "    epochs = range(1, len(acc) + 1)\n",
    "\n",
    "    plt.plot(epochs, acc, 'bo', label='Training acc')\n",
    "    plt.plot(epochs, val_acc, 'b', label='Validation acc')\n",
    "    plt.title('Training and validation accuracy')\n",
    "    plt.xlabel('Epochs')\n",
    "    plt.ylabel('Loss')\n",
    "    plt.legend()"
   ]
  },
  {
   "cell_type": "code",
   "execution_count": null,
   "metadata": {
    "id": "hclG6i66E7kv"
   },
   "outputs": [],
   "source": []
  },
  {
   "cell_type": "markdown",
   "metadata": {
    "id": "--_jK-ASE7kv"
   },
   "source": [
    "Q: At which iteration does your model start to overfit? Give your rational.\n",
    "\n",
    "**ANSWER**"
   ]
  },
  {
   "cell_type": "markdown",
   "metadata": {
    "id": "UcS8GzuVE7kw"
   },
   "source": []
  },
  {
   "cell_type": "markdown",
   "metadata": {
    "id": "apFd-PjLE7kw"
   },
   "source": [
    "### 5. Model Evaluation\n",
    "\n",
    "Evaluate your model with test set using `.evaluate()` and compare the results to those from the training and validate sets. Does your model overfit or underfit? How about the bias and variance?"
   ]
  },
  {
   "cell_type": "code",
   "execution_count": null,
   "metadata": {
    "id": "5DWOZBhnE7kx"
   },
   "outputs": [],
   "source": []
  },
  {
   "cell_type": "markdown",
   "metadata": {
    "id": "Es3qv4GUE7kx"
   },
   "source": [
    "Q: Analyze the performance of your model using a confusion matrix. Which class does your model frequently misclassify? What is the precision and recall of your model?"
   ]
  },
  {
   "cell_type": "code",
   "execution_count": null,
   "metadata": {
    "id": "rrmzD3RtE7kx"
   },
   "outputs": [],
   "source": [
    "from sklearn.metrics import classification_report, confusion_matrix\n",
    "\n",
    "### evaluate your model ###\n",
    "\n",
    "###########################"
   ]
  },
  {
   "cell_type": "markdown",
   "metadata": {
    "id": "wav4bZmPE7ky"
   },
   "source": [
    "\n",
    "**ANSWER**"
   ]
  },
  {
   "cell_type": "markdown",
   "metadata": {
    "id": "frboEwSkE7ky"
   },
   "source": []
  },
  {
   "cell_type": "markdown",
   "metadata": {
    "id": "TMPCocnEE7ky"
   },
   "source": [
    "### 6. Model tuning\n",
    "\n",
    "Try tuning your model by: \n",
    "1. Adjust the learning rate of your optimizer by increasing and decreasing the learning rate to see how it affects your model.\n",
    "2. Experiment with different optimizers ('sgd', 'rmspop', 'adagrad', 'adam', See https://keras.io/optimizers ) to see which one converges faster.\n",
    "3. Change the structure of your model by adding more hidden layers with any number of nodes, and then observe how this affects your model."
   ]
  },
  {
   "cell_type": "code",
   "execution_count": null,
   "metadata": {
    "id": "pkpmVx0DE7kz"
   },
   "outputs": [],
   "source": []
  },
  {
   "cell_type": "markdown",
   "metadata": {
    "id": "Tn39uPiLE7kz"
   },
   "source": [
    "### 7. Discussion and Result\n",
    "Q: Write down your findings from the previous step.\n",
    "\n",
    "**ANSWER**"
   ]
  },
  {
   "cell_type": "markdown",
   "metadata": {
    "id": "kO1kTAr2E7kz"
   },
   "source": []
  }
 ],
 "metadata": {
  "colab": {
   "name": "3_HomeworkLab3_neural network.ipynb",
   "provenance": []
  },
  "kernelspec": {
   "display_name": "Python 3 (ipykernel)",
   "language": "python",
   "name": "python3"
  },
  "language_info": {
   "codemirror_mode": {
    "name": "ipython",
    "version": 3
   },
   "file_extension": ".py",
   "mimetype": "text/x-python",
   "name": "python",
   "nbconvert_exporter": "python",
   "pygments_lexer": "ipython3",
   "version": "3.9.0"
  }
 },
 "nbformat": 4,
 "nbformat_minor": 4
}
