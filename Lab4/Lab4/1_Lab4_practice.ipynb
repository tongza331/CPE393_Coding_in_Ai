{
 "cells": [
  {
   "cell_type": "markdown",
   "metadata": {
    "id": "bZ_6lwmhBTht"
   },
   "source": [
    "# Practice Lab 3 : ANN\n",
    "- Please write your name and student id everytime"
   ]
  },
  {
   "cell_type": "code",
   "execution_count": null,
   "metadata": {
    "colab": {
     "base_uri": "https://localhost:8080/"
    },
    "id": "HQONUEK3QGFn",
    "outputId": "051c24f5-be1a-4281-c8a2-dee784aabb8c"
   },
   "outputs": [],
   "source": [
    "import keras; print(keras.__version__)"
   ]
  },
  {
   "cell_type": "markdown",
   "metadata": {
    "id": "WKkqyYKwBThv"
   },
   "source": [
    "###  1. Import the Dataset and Learn About the Data\n"
   ]
  },
  {
   "cell_type": "code",
   "execution_count": null,
   "metadata": {
    "id": "fO1frRx6_5_K"
   },
   "outputs": [],
   "source": [
    "#Import data"
   ]
  },
  {
   "cell_type": "code",
   "execution_count": null,
   "metadata": {
    "colab": {
     "base_uri": "https://localhost:8080/",
     "height": 162
    },
    "id": "VqsMQnVWBTh2",
    "outputId": "959f7e13-b570-4255-9403-77b9f4257a35"
   },
   "outputs": [],
   "source": [
    "bankData.describe()"
   ]
  },
  {
   "cell_type": "code",
   "execution_count": null,
   "metadata": {
    "colab": {
     "base_uri": "https://localhost:8080/",
     "height": 162
    },
    "id": "p5RfuIVFBTh5",
    "outputId": "7daf76fd-dbec-4f32-8336-a954b7098172"
   },
   "outputs": [],
   "source": [
    "bankData.info()"
   ]
  },
  {
   "cell_type": "code",
   "execution_count": null,
   "metadata": {
    "id": "afsF--d-BTiC"
   },
   "outputs": [],
   "source": [
    "bankData.isnull().sum()"
   ]
  },
  {
   "cell_type": "markdown",
   "metadata": {
    "id": "DRiNanupBTiF"
   },
   "source": [
    "###  2. Preprocessing\n",
    "\n",
    "Use techniques that you have learned to preprocess the data. "
   ]
  },
  {
   "cell_type": "markdown",
   "metadata": {
    "id": "JH-b-AZZN8HX"
   },
   "source": [
    "##### 2.1 Binary encoding\n",
    "Use .replace to replace the following columns:\n",
    "\n",
    "- y\n",
    "- default\n",
    "- housing\n",
    "- loan\n",
    "\n",
    "from string to number"
   ]
  },
  {
   "cell_type": "code",
   "execution_count": null,
   "metadata": {
    "id": "QxDgDaYEN41D"
   },
   "outputs": [],
   "source": []
  },
  {
   "cell_type": "code",
   "execution_count": null,
   "metadata": {},
   "outputs": [],
   "source": []
  },
  {
   "cell_type": "markdown",
   "metadata": {
    "id": "7dpnIBFROGD4"
   },
   "source": [
    "#### 2.2 Convert categorical variables into dummy columns\n",
    "\n",
    "(1) Use pd.get_dummies to convert the following categorical variales into dummy columns\n",
    "- job\n",
    "- maritial\n",
    "- education\n",
    "- contact\n",
    "- month\n",
    "- poutcome"
   ]
  },
  {
   "cell_type": "code",
   "execution_count": null,
   "metadata": {
    "id": "5ij48p2lOAGd"
   },
   "outputs": [],
   "source": []
  },
  {
   "cell_type": "code",
   "execution_count": null,
   "metadata": {
    "id": "XWSpyoI6OKCO"
   },
   "outputs": [],
   "source": []
  },
  {
   "cell_type": "markdown",
   "metadata": {
    "id": "4hP0nqGXMhIL"
   },
   "source": [
    "#### 2.3 Train/Test separation\n",
    "\n",
    "Perform hold-out method\n",
    "- separate feature / label\n",
    "- 60% training set\n",
    "- 40% testing set\n",
    "\n",
    "use sklearn to separate data \n",
    "- more info : https://scikit-learn.org/stable/modules/generated/sklearn.model_selection.train_test_split.html"
   ]
  },
  {
   "cell_type": "code",
   "execution_count": null,
   "metadata": {
    "id": "dq4ruihiMhIL"
   },
   "outputs": [],
   "source": [
    "#features / label\n"
   ]
  },
  {
   "cell_type": "code",
   "execution_count": null,
   "metadata": {
    "id": "kLG_b_QcMhIM"
   },
   "outputs": [],
   "source": [
    "from sklearn.model_selection import train_test_split\n",
    "\n",
    "\n"
   ]
  },
  {
   "cell_type": "markdown",
   "metadata": {
    "id": "CB1sVHB9BTid"
   },
   "source": [
    "#### 2.4 Generate Model\n"
   ]
  },
  {
   "cell_type": "code",
   "execution_count": null,
   "metadata": {
    "id": "X2NfDxh6BTif"
   },
   "outputs": [],
   "source": [
    "from keras import models\n",
    "from keras import layers"
   ]
  },
  {
   "cell_type": "code",
   "execution_count": null,
   "metadata": {
    "id": "VDDPXamlMhIO"
   },
   "outputs": [],
   "source": [
    "nn = models.Sequential()\n",
    "nn.add(layers.Dense(48,activation = 'linear',input_shape=(None,48)))\n",
    "nn.add(layers.Dense(20,activation = 'linear'))\n",
    "nn.add(layers.Dense(1,activation = 'sigmoid'))"
   ]
  },
  {
   "cell_type": "code",
   "execution_count": null,
   "metadata": {
    "id": "B08RuBfiMhIO"
   },
   "outputs": [],
   "source": [
    "nn.compile(optimizer='sgd', loss='binary_crossentropy', metrics=['accuracy'])"
   ]
  },
  {
   "cell_type": "code",
   "execution_count": null,
   "metadata": {
    "id": "nyB2OVUZMhIO"
   },
   "outputs": [],
   "source": [
    "nn.summary()"
   ]
  },
  {
   "cell_type": "code",
   "execution_count": null,
   "metadata": {
    "id": "NRiPKOjEMhIP"
   },
   "outputs": [],
   "source": [
    "import numpy as np\n",
    "X_train_add = np.expand_dims(X_train, axis=0)\n",
    "y_train_add = np.expand_dims(y_train, axis=0)"
   ]
  },
  {
   "cell_type": "code",
   "execution_count": null,
   "metadata": {
    "id": "qfUHiilyMhIQ",
    "scrolled": true
   },
   "outputs": [],
   "source": [
    "history = nn.fit(X_train_add,y_train_add,epochs=100)"
   ]
  },
  {
   "cell_type": "code",
   "execution_count": null,
   "metadata": {
    "id": "WqSei4sRMhIQ"
   },
   "outputs": [],
   "source": [
    "X_test_add = np.expand_dims(X_test, axis=0)\n",
    "y_test_add = np.expand_dims(y_test, axis=0)"
   ]
  },
  {
   "cell_type": "code",
   "execution_count": null,
   "metadata": {
    "id": "p3YBKsRoMhIQ"
   },
   "outputs": [],
   "source": [
    "test_loss, test_acc = nn.evaluate(X_test_add, y_test_add)\n",
    "print('Test Loss: %s\\nTest Accuracy: %s' % (test_loss,test_acc))"
   ]
  },
  {
   "cell_type": "code",
   "execution_count": null,
   "metadata": {
    "id": "0qFhhic-MhIR"
   },
   "outputs": [],
   "source": [
    "history.history"
   ]
  },
  {
   "cell_type": "code",
   "execution_count": null,
   "metadata": {
    "id": "1S6VcSKcMhIR"
   },
   "outputs": [],
   "source": []
  },
  {
   "cell_type": "code",
   "execution_count": null,
   "metadata": {
    "id": "86nOkaMMMhIR"
   },
   "outputs": [],
   "source": []
  },
  {
   "cell_type": "code",
   "execution_count": null,
   "metadata": {
    "id": "ucZTAumSMhIR"
   },
   "outputs": [],
   "source": []
  }
 ],
 "metadata": {
  "colab": {
   "name": "1_Lab3_practice.ipynb",
   "provenance": []
  },
  "kernelspec": {
   "display_name": "Python 3 (ipykernel)",
   "language": "python",
   "name": "python3"
  },
  "language_info": {
   "codemirror_mode": {
    "name": "ipython",
    "version": 3
   },
   "file_extension": ".py",
   "mimetype": "text/x-python",
   "name": "python",
   "nbconvert_exporter": "python",
   "pygments_lexer": "ipython3",
   "version": "3.9.12"
  }
 },
 "nbformat": 4,
 "nbformat_minor": 1
}
