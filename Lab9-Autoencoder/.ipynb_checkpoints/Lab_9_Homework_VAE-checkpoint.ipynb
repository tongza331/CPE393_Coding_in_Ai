{
 "cells": [
  {
   "cell_type": "markdown",
   "metadata": {
    "id": "3K2m3D9Qugsr"
   },
   "source": [
    "# Lab 9: Variational Autoencoders\n",
    "\n",
    "Patcharporn Sirimom, 62070507208<br>"
   ]
  },
  {
   "cell_type": "markdown",
   "metadata": {
    "id": "KK1lVaeWxwsz"
   },
   "source": [
    "![alt text](https://hackernoon.com/hn-images/1*op0VO_QK4vMtCnXtmigDhA.png)\n",
    "\n"
   ]
  },
  {
   "cell_type": "markdown",
   "metadata": {
    "id": "-3Xtis46ugsw"
   },
   "source": [
    "\n",
    "\n",
    "## Lab Instruction: Generate Random Handwriting Number\n",
    "\n",
    "In this lab, you will learn do the generative model using variational autoencoder to generate random image.</br>\n",
    "\n",
    "This is what we are going to do in this lab: https://www.siarez.com/projects/variational-autoencoder </br>\n",
    "About the variational autoencoder: https://towardsdatascience.com/intuitively-understanding-variational-autoencoders-1bfe67eb5daf\n",
    "\n",
    "This lab, we created model using functional API > https://keras.io/models/model/ \n",
    "\n",
    "### Autoencoder Model\n",
    "\n",
    "![alt text](https://blog.keras.io/img/ae/autoencoder_schema.jpg)\n",
    "\n",
    "\n",
    "***Images from:<br>***\n",
    "*1. <a href=https://blog.keras.io/building-autoencoders-in-keras.html> Keras Blog </a></br>*\n",
    "*2. Manning - Deep Learning with Python Book*\n"
   ]
  },
  {
   "cell_type": "code",
   "execution_count": 1,
   "metadata": {
    "id": "wswiKohnugsy"
   },
   "outputs": [],
   "source": [
    "# Import required libraries\n",
    "import keras\n",
    "from keras import models\n",
    "from keras import layers\n",
    "from keras import backend as K\n",
    "from keras import callbacks\n",
    "\n",
    "import numpy as np\n",
    "import matplotlib.pyplot as plt\n",
    "from scipy.stats import norm\n",
    "\n",
    "from sklearn.model_selection import train_test_split\n",
    "\n",
    "%matplotlib inline"
   ]
  },
  {
   "cell_type": "markdown",
   "metadata": {
    "id": "3K08vM2yugs9"
   },
   "source": [
    "### Load MNIST data "
   ]
  },
  {
   "cell_type": "code",
   "execution_count": 2,
   "metadata": {
    "id": "9oaHtEg0ugs-"
   },
   "outputs": [],
   "source": [
    "# Load MNIST data\n",
    "from keras.datasets import mnist\n",
    "\n",
    "(x_train, y_train), (x_test, y_test) = mnist.load_data()"
   ]
  },
  {
   "cell_type": "code",
   "execution_count": 3,
   "metadata": {
    "id": "N0UM0Nd-ugtG"
   },
   "outputs": [
    {
     "data": {
      "text/plain": [
       "(60000, 28, 28)"
      ]
     },
     "execution_count": 3,
     "metadata": {},
     "output_type": "execute_result"
    }
   ],
   "source": [
    "# Data exploration: Shape\n",
    "x_train.shape"
   ]
  },
  {
   "cell_type": "code",
   "execution_count": 4,
   "metadata": {
    "id": "8bTsEai5ugtM"
   },
   "outputs": [
    {
     "data": {
      "text/plain": [
       "dtype('uint8')"
      ]
     },
     "execution_count": 4,
     "metadata": {},
     "output_type": "execute_result"
    }
   ],
   "source": [
    "# Data exploration: Data type\n",
    "x_train.dtype"
   ]
  },
  {
   "cell_type": "code",
   "execution_count": 5,
   "metadata": {
    "id": "hOa1JKJ4ugtT"
   },
   "outputs": [
    {
     "data": {
      "text/plain": [
       "(0, 255)"
      ]
     },
     "execution_count": 5,
     "metadata": {},
     "output_type": "execute_result"
    }
   ],
   "source": [
    "# Min, Max value\n",
    "np.min(x_train),np.max(x_train)"
   ]
  },
  {
   "cell_type": "markdown",
   "metadata": {
    "id": "cg3ZToHDugtW"
   },
   "source": [
    "### Preprocess data "
   ]
  },
  {
   "cell_type": "code",
   "execution_count": 6,
   "metadata": {
    "id": "ZV6ycfagugtX"
   },
   "outputs": [],
   "source": [
    "# Reshape and normalize\n",
    "x_train = x_train.reshape(x_train.shape[0],x_train.shape[1],x_train.shape[2],1)\n",
    "x_train = x_train/255.\n",
    "\n",
    "x_test = x_test.reshape(x_test.shape[0],x_test.shape[1],x_test.shape[2],1)\n",
    "x_test = x_test/255."
   ]
  },
  {
   "cell_type": "code",
   "execution_count": 7,
   "metadata": {
    "id": "VEQjXIpwugtk"
   },
   "outputs": [
    {
     "data": {
      "text/plain": [
       "(60000, 28, 28, 1)"
      ]
     },
     "execution_count": 7,
     "metadata": {},
     "output_type": "execute_result"
    }
   ],
   "source": [
    "# shape after preprocess\n",
    "x_train.shape"
   ]
  },
  {
   "cell_type": "markdown",
   "metadata": {
    "id": "_V-2o3l2ugto"
   },
   "source": [
    "### Split Train, Test, Validation data "
   ]
  },
  {
   "cell_type": "code",
   "execution_count": 8,
   "metadata": {
    "id": "CoAHcH-kugtp"
   },
   "outputs": [],
   "source": [
    "# Split data\n",
    "x_train, x_val, y_train, y_val = train_test_split(x_train,y_train,\n",
    "                                                  test_size=0.1,\n",
    "                                                  stratify=y_train,\n",
    "                                                  random_state=0)"
   ]
  },
  {
   "cell_type": "code",
   "execution_count": 9,
   "metadata": {},
   "outputs": [
    {
     "data": {
      "image/png": "[encoded data removed]",
      "text/plain": [
       "<Figure size 640x480 with 4 Axes>"
      ]
     },
     "metadata": {},
     "output_type": "display_data"
    }
   ],
   "source": [
    "## Plot some image\n",
    "plt.figure(1)\n",
    "plt.subplot(221)\n",
    "plt.imshow(x_train[43][:,:,0])\n",
    "plt.subplot(222)\n",
    "plt.imshow(x_train[430][:,:,0])\n",
    "plt.subplot(223)\n",
    "plt.imshow(x_train[4300][:,:,0])\n",
    "plt.subplot(224)\n",
    "plt.imshow(x_train[43000][:,:,0])\n",
    "plt.show()"
   ]
  },
  {
   "cell_type": "markdown",
   "metadata": {
    "id": "XPqEPpq3ugtw"
   },
   "source": [
    "### Create variational autoencoder model \n",
    "\n",
    "In technical terms, here’s how a VAE works:\n",
    "1. An encoder module turns the input samples input_img into two parameters in a latent space of representations, z_mean and z_log_variance.\n",
    "2. You randomly sample a point z from the latent normal distribution that’s assumed to generate the input image, via\n",
    "> z= z_mean+exp(z_log_variance)* epsilon, *where epsilon is a random tensor of small values.*\n",
    "3. A decoder module maps this point in the latent space back to the original input image."
   ]
  },
  {
   "cell_type": "code",
   "execution_count": 10,
   "metadata": {
    "id": "sJoP6s-4ugtx"
   },
   "outputs": [],
   "source": [
    "# Define variables\n",
    "input_shape=(28,28,1)\n",
    "batch_size=16\n",
    "latent_dim=2 # 2 latent vector to represent MNIST data"
   ]
  },
  {
   "cell_type": "code",
   "execution_count": 11,
   "metadata": {},
   "outputs": [],
   "source": [
    "import keras\n",
    "from keras.layers import Conv2D, Conv2DTranspose, Input, Flatten, Dense, Lambda, Reshape\n",
    "#from keras.layers import BatchNormalization\n",
    "from keras.models import Model\n",
    "from keras import backend as K\n",
    "import numpy as np\n",
    "import matplotlib.pyplot as plt"
   ]
  },
  {
   "cell_type": "code",
   "execution_count": 12,
   "metadata": {
    "id": "PFMEdCHxugt1"
   },
   "outputs": [],
   "source": [
    "# Encoder Model\n",
    "input_img = Input(shape=input_shape, name='encoder_input')\n",
    "x = Conv2D(32, 3, padding='same', activation='relu')(input_img)\n",
    "x = Conv2D(64, 3, padding='same', activation='relu', strides=(2,2))(x)\n",
    "x = Conv2D(64, 3, padding='same', activation='relu')(x)\n",
    "x = Conv2D(64, 3, padding='same', activation='relu')(x)"
   ]
  },
  {
   "cell_type": "code",
   "execution_count": 13,
   "metadata": {
    "id": "2f7801tOugt5"
   },
   "outputs": [],
   "source": [
    "# Variation Parameters\n",
    "conv_shape = K.int_shape(x) # Shape of conv to be provided to decoder\n",
    "x = Flatten()(x)\n",
    "x = Dense(32, activation='relu')(x)\n",
    "\n",
    "z_mean = Dense(latent_dim)(x) # Mean values of encoded input\n",
    "z_log_var = Dense(latent_dim)(x) # Std dev. of encoded input"
   ]
  },
  {
   "cell_type": "code",
   "execution_count": 14,
   "metadata": {
    "id": "Adhjuz4Lugt9"
   },
   "outputs": [],
   "source": [
    "# Sampling distribution funtion\n",
    "def sampling(arg):\n",
    "    z_mean, z_log_var = arg\n",
    "    epsilon = K.random_normal(shape=(K.shape(z_mean)[0],latent_dim),mean=0., stddev=1.)\n",
    "    return z_mean + K.exp(z_log_var) * epsilon"
   ]
  },
  {
   "cell_type": "code",
   "execution_count": 15,
   "metadata": {
    "id": "HdkOu7QMuguC"
   },
   "outputs": [],
   "source": [
    "# Distribution function sampling layer\n",
    "z = layers.Lambda(sampling)([z_mean, z_log_var])"
   ]
  },
  {
   "cell_type": "code",
   "execution_count": 16,
   "metadata": {},
   "outputs": [
    {
     "name": "stdout",
     "output_type": "stream",
     "text": [
      "Model: \"encoder\"\n",
      "__________________________________________________________________________________________________\n",
      " Layer (type)                   Output Shape         Param #     Connected to                     \n",
      "==================================================================================================\n",
      " encoder_input (InputLayer)     [(None, 28, 28, 1)]  0           []                               \n",
      "                                                                                                  \n",
      " conv2d (Conv2D)                (None, 28, 28, 32)   320         ['encoder_input[0][0]']          \n",
      "                                                                                                  \n",
      " conv2d_1 (Conv2D)              (None, 14, 14, 64)   18496       ['conv2d[0][0]']                 \n",
      "                                                                                                  \n",
      " conv2d_2 (Conv2D)              (None, 14, 14, 64)   36928       ['conv2d_1[0][0]']               \n",
      "                                                                                                  \n",
      " conv2d_3 (Conv2D)              (None, 14, 14, 64)   36928       ['conv2d_2[0][0]']               \n",
      "                                                                                                  \n",
      " flatten (Flatten)              (None, 12544)        0           ['conv2d_3[0][0]']               \n",
      "                                                                                                  \n",
      " dense (Dense)                  (None, 32)           401440      ['flatten[0][0]']                \n",
      "                                                                                                  \n",
      " dense_1 (Dense)                (None, 2)            66          ['dense[0][0]']                  \n",
      "                                                                                                  \n",
      " dense_2 (Dense)                (None, 2)            66          ['dense[0][0]']                  \n",
      "                                                                                                  \n",
      " lambda (Lambda)                (None, 2)            0           ['dense_1[0][0]',                \n",
      "                                                                  'dense_2[0][0]']                \n",
      "                                                                                                  \n",
      "==================================================================================================\n",
      "Total params: 494,244\n",
      "Trainable params: 494,244\n",
      "Non-trainable params: 0\n",
      "__________________________________________________________________________________________________\n",
      "None\n"
     ]
    }
   ],
   "source": [
    "encoder = Model(input_img, [z_mean, z_log_var, z], name='encoder')\n",
    "print(encoder.summary())"
   ]
  },
  {
   "cell_type": "markdown",
   "metadata": {
    "id": "w4JyxvsIuguI"
   },
   "source": [
    "To define a deconvolution layer\n",
    "> ```layers.Conv2DTranspose( )```\n",
    "\n",
    "See: https://keras.io/layers/convolutional/ Search for ```Conv2DTranspose```"
   ]
  },
  {
   "cell_type": "code",
   "execution_count": 17,
   "metadata": {
    "id": "6OU1SAAxuguK"
   },
   "outputs": [],
   "source": [
    "# Decoder model\n",
    "decoder_input = Input(shape=(latent_dim,), name='decoder_input')\n",
    "x = Dense(conv_shape[1]*conv_shape[2]*conv_shape[3], activation='relu')(decoder_input)\n",
    "x = Reshape((conv_shape[1], conv_shape[2], conv_shape[3]))(x)\n",
    "x = Conv2DTranspose(32, 3, padding='same', activation='relu',strides=(2, 2))(x)\n",
    "x = Conv2DTranspose(1, 3, padding='same', activation='sigmoid', name='decoder_output')(x)"
   ]
  },
  {
   "cell_type": "code",
   "execution_count": 18,
   "metadata": {},
   "outputs": [
    {
     "name": "stdout",
     "output_type": "stream",
     "text": [
      "Model: \"decoder\"\n",
      "_________________________________________________________________\n",
      " Layer (type)                Output Shape              Param #   \n",
      "=================================================================\n",
      " decoder_input (InputLayer)  [(None, 2)]               0         \n",
      "                                                                 \n",
      " dense_3 (Dense)             (None, 12544)             37632     \n",
      "                                                                 \n",
      " reshape (Reshape)           (None, 14, 14, 64)        0         \n",
      "                                                                 \n",
      " conv2d_transpose (Conv2DTra  (None, 28, 28, 32)       18464     \n",
      " nspose)                                                         \n",
      "                                                                 \n",
      " decoder_output (Conv2DTrans  (None, 28, 28, 1)        289       \n",
      " pose)                                                           \n",
      "                                                                 \n",
      "=================================================================\n",
      "Total params: 56,385\n",
      "Trainable params: 56,385\n",
      "Non-trainable params: 0\n",
      "_________________________________________________________________\n",
      "None\n"
     ]
    }
   ],
   "source": [
    "decoder = Model(decoder_input, x, name='decoder')\n",
    "print(decoder.summary())"
   ]
  },
  {
   "cell_type": "code",
   "execution_count": 19,
   "metadata": {},
   "outputs": [],
   "source": [
    "# apply the decoder to the latent sample \n",
    "z_decoded = decoder(z)"
   ]
  },
  {
   "cell_type": "code",
   "execution_count": 20,
   "metadata": {
    "id": "lB25fXcVuguN"
   },
   "outputs": [
    {
     "name": "stdout",
     "output_type": "stream",
     "text": [
      "Model: \"encoder\"\n",
      "__________________________________________________________________________________________________\n",
      " Layer (type)                   Output Shape         Param #     Connected to                     \n",
      "==================================================================================================\n",
      " encoder_input (InputLayer)     [(None, 28, 28, 1)]  0           []                               \n",
      "                                                                                                  \n",
      " conv2d (Conv2D)                (None, 28, 28, 32)   320         ['encoder_input[0][0]']          \n",
      "                                                                                                  \n",
      " conv2d_1 (Conv2D)              (None, 14, 14, 64)   18496       ['conv2d[0][0]']                 \n",
      "                                                                                                  \n",
      " conv2d_2 (Conv2D)              (None, 14, 14, 64)   36928       ['conv2d_1[0][0]']               \n",
      "                                                                                                  \n",
      " conv2d_3 (Conv2D)              (None, 14, 14, 64)   36928       ['conv2d_2[0][0]']               \n",
      "                                                                                                  \n",
      " flatten (Flatten)              (None, 12544)        0           ['conv2d_3[0][0]']               \n",
      "                                                                                                  \n",
      " dense (Dense)                  (None, 32)           401440      ['flatten[0][0]']                \n",
      "                                                                                                  \n",
      " dense_1 (Dense)                (None, 2)            66          ['dense[0][0]']                  \n",
      "                                                                                                  \n",
      " dense_2 (Dense)                (None, 2)            66          ['dense[0][0]']                  \n",
      "                                                                                                  \n",
      " lambda (Lambda)                (None, 2)            0           ['dense_1[0][0]',                \n",
      "                                                                  'dense_2[0][0]']                \n",
      "                                                                                                  \n",
      "==================================================================================================\n",
      "Total params: 494,244\n",
      "Trainable params: 494,244\n",
      "Non-trainable params: 0\n",
      "__________________________________________________________________________________________________\n"
     ]
    }
   ],
   "source": [
    "# Wrap up encoder model\n",
    "encoder.summary()"
   ]
  },
  {
   "cell_type": "code",
   "execution_count": 21,
   "metadata": {
    "id": "5s-qizZ7uguW"
   },
   "outputs": [
    {
     "name": "stdout",
     "output_type": "stream",
     "text": [
      "Model: \"decoder\"\n",
      "_________________________________________________________________\n",
      " Layer (type)                Output Shape              Param #   \n",
      "=================================================================\n",
      " decoder_input (InputLayer)  [(None, 2)]               0         \n",
      "                                                                 \n",
      " dense_3 (Dense)             (None, 12544)             37632     \n",
      "                                                                 \n",
      " reshape (Reshape)           (None, 14, 14, 64)        0         \n",
      "                                                                 \n",
      " conv2d_transpose (Conv2DTra  (None, 28, 28, 32)       18464     \n",
      " nspose)                                                         \n",
      "                                                                 \n",
      " decoder_output (Conv2DTrans  (None, 28, 28, 1)        289       \n",
      " pose)                                                           \n",
      "                                                                 \n",
      "=================================================================\n",
      "Total params: 56,385\n",
      "Trainable params: 56,385\n",
      "Non-trainable params: 0\n",
      "_________________________________________________________________\n"
     ]
    }
   ],
   "source": [
    "# Wrap up decoder model\n",
    "decoder.summary()"
   ]
  },
  {
   "cell_type": "markdown",
   "metadata": {
    "id": "osjQ4Bh7uguk"
   },
   "source": [
    "The parameters of a VAE are trained via two loss functions: \n",
    "1. A reconstruction loss that forces the decoded samples to match the initial inputs.\n",
    "2. A regularization loss (The Kullback-Liebler divergence) that helps learn well-formed latent spaces and reduce overfitting to the training data."
   ]
  },
  {
   "cell_type": "code",
   "execution_count": 22,
   "metadata": {
    "id": "1OdabyEEugum"
   },
   "outputs": [],
   "source": [
    "def vae_loss(x, z_decoded):\n",
    "    xent_loss = K.binary_crossentropy(x, z_decoded)\n",
    "    kl_loss = - 0.5 * K.mean(1 + z_log_var - K.square(z_mean) - K.exp(z_log_var), axis=-1)\n",
    "    return xent_loss + kl_loss"
   ]
  },
  {
   "cell_type": "markdown",
   "metadata": {
    "id": "JiCXJ9vwuguu"
   },
   "source": [
    "### Compile and Summarise Model"
   ]
  },
  {
   "cell_type": "code",
   "execution_count": 23,
   "metadata": {},
   "outputs": [
    {
     "name": "stdout",
     "output_type": "stream",
     "text": [
      "Model: \"vae\"\n",
      "__________________________________________________________________________________________________\n",
      " Layer (type)                   Output Shape         Param #     Connected to                     \n",
      "==================================================================================================\n",
      " encoder_input (InputLayer)     [(None, 28, 28, 1)]  0           []                               \n",
      "                                                                                                  \n",
      " conv2d (Conv2D)                (None, 28, 28, 32)   320         ['encoder_input[0][0]']          \n",
      "                                                                                                  \n",
      " conv2d_1 (Conv2D)              (None, 14, 14, 64)   18496       ['conv2d[0][0]']                 \n",
      "                                                                                                  \n",
      " conv2d_2 (Conv2D)              (None, 14, 14, 64)   36928       ['conv2d_1[0][0]']               \n",
      "                                                                                                  \n",
      " conv2d_3 (Conv2D)              (None, 14, 14, 64)   36928       ['conv2d_2[0][0]']               \n",
      "                                                                                                  \n",
      " flatten (Flatten)              (None, 12544)        0           ['conv2d_3[0][0]']               \n",
      "                                                                                                  \n",
      " dense (Dense)                  (None, 32)           401440      ['flatten[0][0]']                \n",
      "                                                                                                  \n",
      " dense_1 (Dense)                (None, 2)            66          ['dense[0][0]']                  \n",
      "                                                                                                  \n",
      " dense_2 (Dense)                (None, 2)            66          ['dense[0][0]']                  \n",
      "                                                                                                  \n",
      " lambda (Lambda)                (None, 2)            0           ['dense_1[0][0]',                \n",
      "                                                                  'dense_2[0][0]']                \n",
      "                                                                                                  \n",
      " decoder (Functional)           (None, 28, 28, 1)    56385       ['lambda[0][0]']                 \n",
      "                                                                                                  \n",
      " tf.__operators__.add (TFOpLamb  (None, 2)           0           ['dense_2[0][0]']                \n",
      " da)                                                                                              \n",
      "                                                                                                  \n",
      " tf.math.square (TFOpLambda)    (None, 2)            0           ['dense_1[0][0]']                \n",
      "                                                                                                  \n",
      " tf.math.subtract (TFOpLambda)  (None, 2)            0           ['tf.__operators__.add[0][0]',   \n",
      "                                                                  'tf.math.square[0][0]']         \n",
      "                                                                                                  \n",
      " tf.math.exp (TFOpLambda)       (None, 2)            0           ['dense_2[0][0]']                \n",
      "                                                                                                  \n",
      " tf.math.subtract_1 (TFOpLambda  (None, 2)           0           ['tf.math.subtract[0][0]',       \n",
      " )                                                                'tf.math.exp[0][0]']            \n",
      "                                                                                                  \n",
      " tf.math.reduce_mean (TFOpLambd  (None,)             0           ['tf.math.subtract_1[0][0]']     \n",
      " a)                                                                                               \n",
      "                                                                                                  \n",
      " tf.keras.backend.binary_crosse  (None, 28, 28, 1)   0           ['encoder_input[0][0]',          \n",
      " ntropy (TFOpLambda)                                              'decoder[0][0]']                \n",
      "                                                                                                  \n",
      " tf.math.multiply (TFOpLambda)  (None,)              0           ['tf.math.reduce_mean[0][0]']    \n",
      "                                                                                                  \n",
      " tf.__operators__.add_1 (TFOpLa  (None, 28, 28, None  0          ['tf.keras.backend.binary_crossen\n",
      " mbda)                          )                                tropy[0][0]',                    \n",
      "                                                                  'tf.math.multiply[0][0]']       \n",
      "                                                                                                  \n",
      " add_loss (AddLoss)             (None, 28, 28, None  0           ['tf.__operators__.add_1[0][0]'] \n",
      "                                )                                                                 \n",
      "                                                                                                  \n",
      "==================================================================================================\n",
      "Total params: 550,629\n",
      "Trainable params: 550,629\n",
      "Non-trainable params: 0\n",
      "__________________________________________________________________________________________________\n"
     ]
    }
   ],
   "source": [
    "## VAE Model\n",
    "vae = Model(input_img, z_decoded, name='vae')\n",
    "vae.add_loss(vae_loss(input_img,z_decoded))\n",
    "vae.compile(optimizer='adam')\n",
    "vae.summary()"
   ]
  },
  {
   "cell_type": "code",
   "execution_count": 24,
   "metadata": {
    "id": "HjWg-35rugu2"
   },
   "outputs": [],
   "source": [
    "# Plot training history\n",
    "def viz_loss(history): \n",
    "    \n",
    "    # Print the result from the last epoch\n",
    "    print('Last Training set loss: %s'%history.history['loss'][-1])\n",
    "    print('Last Validation set loss: %s'%history.history['val_loss'][-1])\n",
    "    \n",
    "    loss = history.history['loss']\n",
    "    val_loss = history.history['val_loss']\n",
    "    \n",
    "    epochs = range(1, len(loss) + 1)   \n",
    "    \n",
    "    plt.plot(epochs, loss, 'c--', label='Training loss')\n",
    "    plt.plot(epochs, val_loss, 'b', label='Validation loss')\n",
    "    plt.title('Training and validation loss')\n",
    "    plt.xlabel('Epochs')\n",
    "    plt.ylabel('Loss')\n",
    "    plt.legend()"
   ]
  },
  {
   "cell_type": "markdown",
   "metadata": {
    "id": "oBj6yUCHugu6"
   },
   "source": [
    "### Training The VAE Model"
   ]
  },
  {
   "cell_type": "code",
   "execution_count": 25,
   "metadata": {
    "id": "YKZ0BJQbugu7"
   },
   "outputs": [],
   "source": [
    "# Define callback for checkpoint \n",
    "checkpoint = callbacks.ModelCheckpoint(filepath='./logs', verbose=1, save_best_only=True) \n",
    "#xxxxxxxxx make file path to keep logs"
   ]
  },
  {
   "cell_type": "code",
   "execution_count": 26,
   "metadata": {
    "id": "we-LK6nbugvB"
   },
   "outputs": [],
   "source": [
    "# Define callback for Tensorboard\n",
    "tensorboard = callbacks.TensorBoard(log_dir='./logs')\n",
    "#in xxxxxxxxx path make logs folder to keeps log "
   ]
  },
  {
   "cell_type": "markdown",
   "metadata": {
    "id": "B7SMuqOAugvE"
   },
   "source": [
    "To call a Tensorboard, open terminal and type\n",
    ">``` tensorboard --logdir=/full_path_to_your_logs ```"
   ]
  },
  {
   "cell_type": "code",
   "execution_count": 27,
   "metadata": {
    "scrolled": true,
    "tags": []
   },
   "outputs": [
    {
     "name": "stdout",
     "output_type": "stream",
     "text": [
      "Epoch 1/20\n",
      "2699/2700 [============================>.] - ETA: 0s - loss: 0.2684\n",
      "Epoch 1: val_loss improved from inf to 0.26323, saving model to .\\logs\n"
     ]
    },
    {
     "name": "stderr",
     "output_type": "stream",
     "text": [
      "WARNING:absl:Found untraced functions such as _jit_compiled_convolution_op, _jit_compiled_convolution_op, _jit_compiled_convolution_op, _jit_compiled_convolution_op, _jit_compiled_convolution_op while saving (showing 5 of 6). These functions will not be directly callable after loading.\n"
     ]
    },
    {
     "name": "stdout",
     "output_type": "stream",
     "text": [
      "INFO:tensorflow:Assets written to: .\\logs\\assets\n"
     ]
    },
    {
     "name": "stderr",
     "output_type": "stream",
     "text": [
      "INFO:tensorflow:Assets written to: .\\logs\\assets\n"
     ]
    },
    {
     "name": "stdout",
     "output_type": "stream",
     "text": [
      "2700/2700 [==============================] - 41s 14ms/step - loss: 0.2684 - val_loss: 0.2632\n",
      "Epoch 2/20\n",
      "2698/2700 [============================>.] - ETA: 0s - loss: 0.2633\n",
      "Epoch 2: val_loss improved from 0.26323 to 0.26318, saving model to .\\logs\n"
     ]
    },
    {
     "name": "stderr",
     "output_type": "stream",
     "text": [
      "WARNING:absl:Found untraced functions such as _jit_compiled_convolution_op, _jit_compiled_convolution_op, _jit_compiled_convolution_op, _jit_compiled_convolution_op, _jit_compiled_convolution_op while saving (showing 5 of 6). These functions will not be directly callable after loading.\n"
     ]
    },
    {
     "name": "stdout",
     "output_type": "stream",
     "text": [
      "INFO:tensorflow:Assets written to: .\\logs\\assets\n"
     ]
    },
    {
     "name": "stderr",
     "output_type": "stream",
     "text": [
      "INFO:tensorflow:Assets written to: .\\logs\\assets\n"
     ]
    },
    {
     "name": "stdout",
     "output_type": "stream",
     "text": [
      "2700/2700 [==============================] - 34s 13ms/step - loss: 0.2633 - val_loss: 0.2632\n",
      "Epoch 3/20\n",
      "2696/2700 [============================>.] - ETA: 0s - loss: 0.2632\n",
      "Epoch 3: val_loss improved from 0.26318 to 0.26296, saving model to .\\logs\n"
     ]
    },
    {
     "name": "stderr",
     "output_type": "stream",
     "text": [
      "WARNING:absl:Found untraced functions such as _jit_compiled_convolution_op, _jit_compiled_convolution_op, _jit_compiled_convolution_op, _jit_compiled_convolution_op, _jit_compiled_convolution_op while saving (showing 5 of 6). These functions will not be directly callable after loading.\n"
     ]
    },
    {
     "name": "stdout",
     "output_type": "stream",
     "text": [
      "INFO:tensorflow:Assets written to: .\\logs\\assets\n"
     ]
    },
    {
     "name": "stderr",
     "output_type": "stream",
     "text": [
      "INFO:tensorflow:Assets written to: .\\logs\\assets\n"
     ]
    },
    {
     "name": "stdout",
     "output_type": "stream",
     "text": [
      "2700/2700 [==============================] - 33s 12ms/step - loss: 0.2632 - val_loss: 0.2630\n",
      "Epoch 4/20\n",
      "2696/2700 [============================>.] - ETA: 0s - loss: 0.2631\n",
      "Epoch 4: val_loss did not improve from 0.26296\n",
      "2700/2700 [==============================] - 30s 11ms/step - loss: 0.2631 - val_loss: 0.2630\n",
      "Epoch 5/20\n",
      "2695/2700 [============================>.] - ETA: 0s - loss: 0.2631\n",
      "Epoch 5: val_loss improved from 0.26296 to 0.26290, saving model to .\\logs\n"
     ]
    },
    {
     "name": "stderr",
     "output_type": "stream",
     "text": [
      "WARNING:absl:Found untraced functions such as _jit_compiled_convolution_op, _jit_compiled_convolution_op, _jit_compiled_convolution_op, _jit_compiled_convolution_op, _jit_compiled_convolution_op while saving (showing 5 of 6). These functions will not be directly callable after loading.\n"
     ]
    },
    {
     "name": "stdout",
     "output_type": "stream",
     "text": [
      "INFO:tensorflow:Assets written to: .\\logs\\assets\n"
     ]
    },
    {
     "name": "stderr",
     "output_type": "stream",
     "text": [
      "INFO:tensorflow:Assets written to: .\\logs\\assets\n"
     ]
    },
    {
     "name": "stdout",
     "output_type": "stream",
     "text": [
      "2700/2700 [==============================] - 33s 12ms/step - loss: 0.2631 - val_loss: 0.2629\n",
      "Epoch 6/20\n",
      "2699/2700 [============================>.] - ETA: 0s - loss: 0.2630\n",
      "Epoch 6: val_loss did not improve from 0.26290\n",
      "2700/2700 [==============================] - 33s 12ms/step - loss: 0.2630 - val_loss: 0.2629\n",
      "Epoch 7/20\n",
      "2695/2700 [============================>.] - ETA: 0s - loss: 0.2630\n",
      "Epoch 7: val_loss did not improve from 0.26290\n",
      "2700/2700 [==============================] - 36s 13ms/step - loss: 0.2630 - val_loss: 0.2630\n",
      "Epoch 8/20\n",
      "2700/2700 [==============================] - ETA: 0s - loss: 0.2630\n",
      "Epoch 8: val_loss improved from 0.26290 to 0.26288, saving model to .\\logs\n"
     ]
    },
    {
     "name": "stderr",
     "output_type": "stream",
     "text": [
      "WARNING:absl:Found untraced functions such as _jit_compiled_convolution_op, _jit_compiled_convolution_op, _jit_compiled_convolution_op, _jit_compiled_convolution_op, _jit_compiled_convolution_op while saving (showing 5 of 6). These functions will not be directly callable after loading.\n"
     ]
    },
    {
     "name": "stdout",
     "output_type": "stream",
     "text": [
      "INFO:tensorflow:Assets written to: .\\logs\\assets\n"
     ]
    },
    {
     "name": "stderr",
     "output_type": "stream",
     "text": [
      "INFO:tensorflow:Assets written to: .\\logs\\assets\n"
     ]
    },
    {
     "name": "stdout",
     "output_type": "stream",
     "text": [
      "2700/2700 [==============================] - 35s 13ms/step - loss: 0.2630 - val_loss: 0.2629\n",
      "Epoch 9/20\n",
      "2697/2700 [============================>.] - ETA: 0s - loss: 0.2630\n",
      "Epoch 9: val_loss did not improve from 0.26288\n",
      "2700/2700 [==============================] - 31s 11ms/step - loss: 0.2630 - val_loss: 0.2629\n",
      "Epoch 10/20\n",
      "2700/2700 [==============================] - ETA: 0s - loss: 0.2630\n",
      "Epoch 10: val_loss improved from 0.26288 to 0.26283, saving model to .\\logs\n"
     ]
    },
    {
     "name": "stderr",
     "output_type": "stream",
     "text": [
      "WARNING:absl:Found untraced functions such as _jit_compiled_convolution_op, _jit_compiled_convolution_op, _jit_compiled_convolution_op, _jit_compiled_convolution_op, _jit_compiled_convolution_op while saving (showing 5 of 6). These functions will not be directly callable after loading.\n"
     ]
    },
    {
     "name": "stdout",
     "output_type": "stream",
     "text": [
      "INFO:tensorflow:Assets written to: .\\logs\\assets\n"
     ]
    },
    {
     "name": "stderr",
     "output_type": "stream",
     "text": [
      "INFO:tensorflow:Assets written to: .\\logs\\assets\n"
     ]
    },
    {
     "name": "stdout",
     "output_type": "stream",
     "text": [
      "2700/2700 [==============================] - 41s 15ms/step - loss: 0.2630 - val_loss: 0.2628\n",
      "Epoch 11/20\n",
      "2697/2700 [============================>.] - ETA: 0s - loss: 0.2629\n",
      "Epoch 11: val_loss improved from 0.26283 to 0.26281, saving model to .\\logs\n"
     ]
    },
    {
     "name": "stderr",
     "output_type": "stream",
     "text": [
      "WARNING:absl:Found untraced functions such as _jit_compiled_convolution_op, _jit_compiled_convolution_op, _jit_compiled_convolution_op, _jit_compiled_convolution_op, _jit_compiled_convolution_op while saving (showing 5 of 6). These functions will not be directly callable after loading.\n"
     ]
    },
    {
     "name": "stdout",
     "output_type": "stream",
     "text": [
      "INFO:tensorflow:Assets written to: .\\logs\\assets\n"
     ]
    },
    {
     "name": "stderr",
     "output_type": "stream",
     "text": [
      "INFO:tensorflow:Assets written to: .\\logs\\assets\n"
     ]
    },
    {
     "name": "stdout",
     "output_type": "stream",
     "text": [
      "2700/2700 [==============================] - 35s 13ms/step - loss: 0.2629 - val_loss: 0.2628\n",
      "Epoch 12/20\n",
      "2700/2700 [==============================] - ETA: 0s - loss: 0.2629\n",
      "Epoch 12: val_loss did not improve from 0.26281\n",
      "2700/2700 [==============================] - 32s 12ms/step - loss: 0.2629 - val_loss: 0.2628\n",
      "Epoch 13/20\n",
      "2699/2700 [============================>.] - ETA: 0s - loss: 0.2629\n",
      "Epoch 13: val_loss did not improve from 0.26281\n",
      "2700/2700 [==============================] - 31s 11ms/step - loss: 0.2629 - val_loss: 0.2633\n",
      "Epoch 14/20\n",
      "2699/2700 [============================>.] - ETA: 0s - loss: 0.2629\n",
      "Epoch 14: val_loss did not improve from 0.26281\n",
      "2700/2700 [==============================] - 32s 12ms/step - loss: 0.2629 - val_loss: 0.2629\n",
      "Epoch 15/20\n",
      "2700/2700 [==============================] - ETA: 0s - loss: 0.2629\n",
      "Epoch 15: val_loss did not improve from 0.26281\n",
      "2700/2700 [==============================] - 32s 12ms/step - loss: 0.2629 - val_loss: 0.2629\n",
      "Epoch 16/20\n",
      "2697/2700 [============================>.] - ETA: 0s - loss: 0.2629\n",
      "Epoch 16: val_loss did not improve from 0.26281\n",
      "2700/2700 [==============================] - 33s 12ms/step - loss: 0.2629 - val_loss: 0.2630\n",
      "Epoch 17/20\n",
      "2696/2700 [============================>.] - ETA: 0s - loss: 0.2629\n",
      "Epoch 17: val_loss did not improve from 0.26281\n",
      "2700/2700 [==============================] - 32s 12ms/step - loss: 0.2629 - val_loss: 0.2628\n",
      "Epoch 18/20\n",
      "2698/2700 [============================>.] - ETA: 0s - loss: 0.2629\n",
      "Epoch 18: val_loss did not improve from 0.26281\n",
      "2700/2700 [==============================] - 31s 12ms/step - loss: 0.2629 - val_loss: 0.2630\n",
      "Epoch 19/20\n",
      "2699/2700 [============================>.] - ETA: 0s - loss: 0.2629\n",
      "Epoch 19: val_loss did not improve from 0.26281\n",
      "2700/2700 [==============================] - 31s 11ms/step - loss: 0.2629 - val_loss: 0.2629\n",
      "Epoch 20/20\n",
      "2697/2700 [============================>.] - ETA: 0s - loss: 0.2629\n",
      "Epoch 20: val_loss improved from 0.26281 to 0.26280, saving model to .\\logs\n"
     ]
    },
    {
     "name": "stderr",
     "output_type": "stream",
     "text": [
      "WARNING:absl:Found untraced functions such as _jit_compiled_convolution_op, _jit_compiled_convolution_op, _jit_compiled_convolution_op, _jit_compiled_convolution_op, _jit_compiled_convolution_op while saving (showing 5 of 6). These functions will not be directly callable after loading.\n"
     ]
    },
    {
     "name": "stdout",
     "output_type": "stream",
     "text": [
      "INFO:tensorflow:Assets written to: .\\logs\\assets\n"
     ]
    },
    {
     "name": "stderr",
     "output_type": "stream",
     "text": [
      "INFO:tensorflow:Assets written to: .\\logs\\assets\n"
     ]
    },
    {
     "name": "stdout",
     "output_type": "stream",
     "text": [
      "2700/2700 [==============================] - 33s 12ms/step - loss: 0.2629 - val_loss: 0.2628\n"
     ]
    }
   ],
   "source": [
    "# Train model\n",
    "history = vae.fit(x_train,x_train, epochs = 20, batch_size = batch_size, validation_split = 0.2, callbacks=[checkpoint,tensorboard])"
   ]
  },
  {
   "cell_type": "code",
   "execution_count": 28,
   "metadata": {
    "id": "c7SrVPTKugvH"
   },
   "outputs": [
    {
     "name": "stdout",
     "output_type": "stream",
     "text": [
      "Last Training set loss: 0.26289162039756775\n",
      "Last Validation set loss: 0.26280146837234497\n"
     ]
    },
    {
     "data": {
      "image/png": "[encoded data removed]",
      "text/plain": [
       "<Figure size 640x480 with 1 Axes>"
      ]
     },
     "metadata": {},
     "output_type": "display_data"
    }
   ],
   "source": [
    "# Visualize loss\n",
    "viz_loss(history)"
   ]
  },
  {
   "cell_type": "code",
   "execution_count": 29,
   "metadata": {
    "id": "_21-FHREh4w7"
   },
   "outputs": [],
   "source": [
    "%load_ext tensorboard"
   ]
  },
  {
   "cell_type": "code",
   "execution_count": 31,
   "metadata": {
    "id": "L-XaP4t5h5cG"
   },
   "outputs": [
    {
     "data": {
      "text/html": [
       "\n",
       "      <iframe id=\"tensorboard-frame-cd553e298be4ce0\" width=\"100%\" height=\"800\" frameborder=\"0\">\n",
       "      </iframe>\n",
       "      <script>\n",
       "        (function() {\n",
       "          const frame = document.getElementById(\"tensorboard-frame-cd553e298be4ce0\");\n",
       "          const url = new URL(\"/\", window.location);\n",
       "          const port = 6006;\n",
       "          if (port) {\n",
       "            url.port = port;\n",
       "          }\n",
       "          frame.src = url;\n",
       "        })();\n",
       "      </script>\n",
       "    "
      ],
      "text/plain": [
       "<IPython.core.display.HTML object>"
      ]
     },
     "metadata": {},
     "output_type": "display_data"
    }
   ],
   "source": [
    "%tensorboard --logdir logs"
   ]
  },
  {
   "cell_type": "markdown",
   "metadata": {
    "id": "JnmLooPCugvJ"
   },
   "source": [
    "### Predicting on Test Datast "
   ]
  },
  {
   "cell_type": "code",
   "execution_count": 37,
   "metadata": {
    "id": "sEH9YwzmugvK"
   },
   "outputs": [],
   "source": [
    "# Define visualized image function\n",
    "def visualize_image(image, row=3, col=10, title='Generated hadwriting digit image with VAE'):\n",
    "    fig, ax = plt.subplots(row,col,figsize=(13,4))\n",
    "    fig.suptitle(title)\n",
    "    for i in range(row):\n",
    "        for j in range(col):\n",
    "            ax[i,j].imshow(image[j + i*10],cmap='gray')\n",
    "            ax[i,j].get_xaxis().set_visible(False)\n",
    "            ax[i,j].get_yaxis().set_visible(False)"
   ]
  },
  {
   "cell_type": "code",
   "execution_count": 38,
   "metadata": {},
   "outputs": [
    {
     "name": "stdout",
     "output_type": "stream",
     "text": [
      "313/313 [==============================] - 2s 5ms/step\n"
     ]
    }
   ],
   "source": [
    "# Reconstruct image using test dataset\n",
    "decoded_imgs = vae.predict(x_test)"
   ]
  },
  {
   "cell_type": "code",
   "execution_count": 39,
   "metadata": {
    "id": "nUoC2NVyugvM"
   },
   "outputs": [
    {
     "data": {
      "image/png": "[encoded data removed]",
      "text/plain": [
       "<Figure size 1300x400 with 30 Axes>"
      ]
     },
     "metadata": {},
     "output_type": "display_data"
    }
   ],
   "source": [
    "# Show test image\n",
    "x_test_reshape = x_test.reshape(x_test.shape[0],x_test.shape[1],x_test.shape[2])\n",
    "visualize_image(x_test_reshape)"
   ]
  },
  {
   "cell_type": "code",
   "execution_count": 40,
   "metadata": {
    "id": "S2MAK7bDugvP"
   },
   "outputs": [
    {
     "data": {
      "image/png": "[encoded data removed]",
      "text/plain": [
       "<Figure size 1300x400 with 30 Axes>"
      ]
     },
     "metadata": {},
     "output_type": "display_data"
    }
   ],
   "source": [
    "# Show reconstruct image\n",
    "decoded_imgs = decoded_imgs.reshape(decoded_imgs.shape[0],decoded_imgs.shape[1],decoded_imgs.shape[2])\n",
    "visualize_image(decoded_imgs)"
   ]
  },
  {
   "cell_type": "markdown",
   "metadata": {
    "id": "h3p7l4h9ugvU"
   },
   "source": [
    "### Try Randomly Generate Data"
   ]
  },
  {
   "cell_type": "code",
   "execution_count": 41,
   "metadata": {
    "id": "7s45c4g5ugvV"
   },
   "outputs": [],
   "source": [
    "# Randomly generate a latent vector\n",
    "n = 15\n",
    "digit_size = 28\n",
    "figure = np.zeros((digit_size * n, digit_size * n))\n",
    "grid_x = norm.ppf(np.linspace(0.05, 0.95, n))\n",
    "grid_y = norm.ppf(np.linspace(0.05, 0.95, n))\n",
    "\n",
    "random_input = np.random.uniform(high=2,low=-2,size=(64,latent_dim))\n",
    "\n",
    "# for i, yi in enumerate(grid_x):\n",
    "#     for j, xi in enumerate(grid_y):\n",
    "#         z_sample = np.array([[xi, yi]])\n",
    "#         x_decoded = vae.predict(z_sample)\n",
    "#         digit = x_decoded[0].reshape(digit_size, digit_size)\n",
    "#         figure[i * digit_size: (i + 1) * digit_size,\n",
    "#                j * digit_size: (j + 1) * digit_size] = digit\n",
    "\n",
    "# plt.figure(figsize=(10, 10))\n",
    "# plt.imshow(figure, cmap='Greys_r')\n",
    "# plt.show()"
   ]
  },
  {
   "cell_type": "code",
   "execution_count": null,
   "metadata": {
    "id": "kXpDAizDugvZ"
   },
   "outputs": [],
   "source": [
    "# Reconstruct image\n"
   ]
  },
  {
   "cell_type": "code",
   "execution_count": null,
   "metadata": {
    "id": "n-F-SX2Kugvc"
   },
   "outputs": [],
   "source": [
    "# Exploration: X_decode's shape\n"
   ]
  },
  {
   "cell_type": "code",
   "execution_count": null,
   "metadata": {
    "id": "ZPjzRhkrugvf"
   },
   "outputs": [],
   "source": [
    "# Reshape x_decode\n",
    "decode_digit = x_decoded.reshape(64,digit_size, digit_size)"
   ]
  },
  {
   "cell_type": "markdown",
   "metadata": {
    "id": "nmA1ZF7Iugvh"
   },
   "source": [
    "### Show Generated Image"
   ]
  },
  {
   "cell_type": "code",
   "execution_count": null,
   "metadata": {
    "id": "xWf9-uDRugvk"
   },
   "outputs": [],
   "source": [
    "# Show reconstruct image\n",
    "visualize_image(decode_digit)"
   ]
  },
  {
   "cell_type": "markdown",
   "metadata": {
    "id": "KkLh4ZCfugvn"
   },
   "source": [
    "### Scan The Latent Space"
   ]
  },
  {
   "cell_type": "code",
   "execution_count": null,
   "metadata": {
    "id": "eLurXOcjugvo"
   },
   "outputs": [],
   "source": [
    "# Display a 2D manifold of the digits\n",
    "\n",
    "n = 15  # figure with 15x15 digits\n",
    "digit_size = 28\n",
    "figure = np.zeros((digit_size * n, digit_size * n))\n",
    "# we will sample n points within [-15, 15] standard deviations\n",
    "grid_x = np.linspace(-15, 15, n)\n",
    "grid_y = np.linspace(-15, 15, n)\n",
    "\n",
    "for i, yi in enumerate(grid_x):\n",
    "    for j, xi in enumerate(grid_y):\n",
    "        z_sample = np.array([[xi, yi]]) * 5e-4\n",
    "        x_decoded = decoder.predict(z_sample)\n",
    "        digit = x_decoded[0].reshape(digit_size, digit_size)\n",
    "        figure[i * digit_size: (i + 1) * digit_size,\n",
    "               j * digit_size: (j + 1) * digit_size] = digit\n",
    "\n",
    "plt.figure(figsize=(10, 10))\n",
    "plt.imshow(figure)\n",
    "plt.show()"
   ]
  },
  {
   "cell_type": "markdown",
   "metadata": {
    "id": "rd2rQZrNugvq"
   },
   "source": [
    "### Visualize Latent Space \n",
    "\n",
    "The colored clusters is a type of digit. Close clusters are digits that are structurally similar (i.e. digits that share information in the latent space)."
   ]
  },
  {
   "cell_type": "code",
   "execution_count": 43,
   "metadata": {
    "id": "zaeLN0Onugvr"
   },
   "outputs": [
    {
     "name": "stdout",
     "output_type": "stream",
     "text": [
      "625/625 [==============================] - 2s 3ms/step\n"
     ]
    }
   ],
   "source": [
    "# Estimate latent space from test set\n",
    "x_test_encoded = encoder.predict(x_test, batch_size=batch_size)"
   ]
  },
  {
   "cell_type": "code",
   "execution_count": 44,
   "metadata": {
    "id": "IFNm3310ugvu"
   },
   "outputs": [],
   "source": [
    "# Define latent space visualizatio function\n",
    "def show_latent_space(encoded_imgs):\n",
    "    plt.figure(figsize=(10, 8))\n",
    "    plt.scatter(encoded_imgs[:, 0], encoded_imgs[:, 1], \n",
    "                c=y_test,alpha=.7, s=3**2, cmap='viridis')\n",
    "    plt.colorbar()\n",
    "    plt.show()"
   ]
  },
  {
   "cell_type": "code",
   "execution_count": 45,
   "metadata": {
    "id": "a_DbE-fKugvy"
   },
   "outputs": [
    {
     "ename": "TypeError",
     "evalue": "list indices must be integers or slices, not tuple",
     "output_type": "error",
     "traceback": [
      "\u001b[1;31m---------------------------------------------------------------------------\u001b[0m",
      "\u001b[1;31mTypeError\u001b[0m                                 Traceback (most recent call last)",
      "Cell \u001b[1;32mIn [45], line 2\u001b[0m\n\u001b[0;32m      1\u001b[0m \u001b[38;5;66;03m# Show latent space\u001b[39;00m\n\u001b[1;32m----> 2\u001b[0m \u001b[43mshow_latent_space\u001b[49m\u001b[43m(\u001b[49m\u001b[43mx_test_encoded\u001b[49m\u001b[43m)\u001b[49m\n",
      "Cell \u001b[1;32mIn [44], line 4\u001b[0m, in \u001b[0;36mshow_latent_space\u001b[1;34m(encoded_imgs)\u001b[0m\n\u001b[0;32m      2\u001b[0m \u001b[38;5;28;01mdef\u001b[39;00m \u001b[38;5;21mshow_latent_space\u001b[39m(encoded_imgs):\n\u001b[0;32m      3\u001b[0m     plt\u001b[38;5;241m.\u001b[39mfigure(figsize\u001b[38;5;241m=\u001b[39m(\u001b[38;5;241m10\u001b[39m, \u001b[38;5;241m8\u001b[39m))\n\u001b[1;32m----> 4\u001b[0m     plt\u001b[38;5;241m.\u001b[39mscatter(\u001b[43mencoded_imgs\u001b[49m\u001b[43m[\u001b[49m\u001b[43m:\u001b[49m\u001b[43m,\u001b[49m\u001b[43m \u001b[49m\u001b[38;5;241;43m0\u001b[39;49m\u001b[43m]\u001b[49m, encoded_imgs[:, \u001b[38;5;241m1\u001b[39m], \n\u001b[0;32m      5\u001b[0m                 c\u001b[38;5;241m=\u001b[39my_test,alpha\u001b[38;5;241m=\u001b[39m\u001b[38;5;241m.7\u001b[39m, s\u001b[38;5;241m=\u001b[39m\u001b[38;5;241m3\u001b[39m\u001b[38;5;241m*\u001b[39m\u001b[38;5;241m*\u001b[39m\u001b[38;5;241m2\u001b[39m, cmap\u001b[38;5;241m=\u001b[39m\u001b[38;5;124m'\u001b[39m\u001b[38;5;124mviridis\u001b[39m\u001b[38;5;124m'\u001b[39m)\n\u001b[0;32m      6\u001b[0m     plt\u001b[38;5;241m.\u001b[39mcolorbar()\n\u001b[0;32m      7\u001b[0m     plt\u001b[38;5;241m.\u001b[39mshow()\n",
      "\u001b[1;31mTypeError\u001b[0m: list indices must be integers or slices, not tuple"
     ]
    },
    {
     "data": {
      "text/plain": [
       "<Figure size 1000x800 with 0 Axes>"
      ]
     },
     "metadata": {},
     "output_type": "display_data"
    }
   ],
   "source": [
    "# Show latent space\n",
    "show_latent_space(x_test_encoded)"
   ]
  },
  {
   "cell_type": "markdown",
   "metadata": {
    "id": "gpXkuzNEdS3M"
   },
   "source": [
    "# Discussion"
   ]
  },
  {
   "cell_type": "markdown",
   "metadata": {
    "id": "_e4r8S_SdXj4"
   },
   "source": [
    "\n",
    "Write down why you design this architecture or why you choose this set of parameter</br>\n",
    "You should have at least 1 different architectures/set of hyperparameters per person in your team</br>\n",
    "*Note: For the last step, please turn off a verbose during training"
   ]
  },
  {
   "cell_type": "code",
   "execution_count": null,
   "metadata": {
    "id": "3IlT1BPPd5mM"
   },
   "outputs": [],
   "source": []
  },
  {
   "cell_type": "code",
   "execution_count": null,
   "metadata": {
    "id": "Gs1PiaN2d5qe"
   },
   "outputs": [],
   "source": []
  },
  {
   "cell_type": "code",
   "execution_count": null,
   "metadata": {
    "id": "UEkiNe5Zd5uI"
   },
   "outputs": [],
   "source": []
  },
  {
   "cell_type": "code",
   "execution_count": null,
   "metadata": {
    "id": "IqAa6y0md56U"
   },
   "outputs": [],
   "source": []
  },
  {
   "cell_type": "code",
   "execution_count": null,
   "metadata": {
    "id": "apLlXHRPdSFA"
   },
   "outputs": [],
   "source": []
  },
  {
   "cell_type": "markdown",
   "metadata": {
    "id": "d4KL7cCFugv1"
   },
   "source": [
    "# [Optional] To play further with image generation\n",
    "You can try variational autoencoder model with the following dataset: </br>\n",
    "1. Cat & Dog https://www.kaggle.com/c/dogs-vs-cats/data </br>\n",
    "2. Celebrity image (for those who have high computational power) http://mmlab.ie.cuhk.edu.hk/projects/CelebA.html</br>\n",
    "\n",
    "### More on Autoencoder Model\n",
    "\n",
    "Autoencoder tutorial: \n",
    "1. https://www.datacamp.com/community/tutorials/autoencoder-keras-tutorial\n",
    "2. https://www.kaggle.com/rvislaywade/visualizing-mnist-using-a-variational-autoencoder\n",
    "\n"
   ]
  },
  {
   "cell_type": "code",
   "execution_count": null,
   "metadata": {
    "id": "3IPHmKTYugv2"
   },
   "outputs": [],
   "source": []
  }
 ],
 "metadata": {
  "colab": {
   "collapsed_sections": [
    "JnmLooPCugvJ",
    "h3p7l4h9ugvU",
    "nmA1ZF7Iugvh",
    "KkLh4ZCfugvn",
    "gpXkuzNEdS3M",
    "d4KL7cCFugv1"
   ],
   "name": "Lab_9_Homework_VAE.ipynb",
   "provenance": []
  },
  "kernelspec": {
   "display_name": "tf",
   "language": "python",
   "name": "tf"
  },
  "language_info": {
   "codemirror_mode": {
    "name": "ipython",
    "version": 3
   },
   "file_extension": ".py",
   "mimetype": "text/x-python",
   "name": "python",
   "nbconvert_exporter": "python",
   "pygments_lexer": "ipython3",
   "version": "3.9.0"
  }
 },
 "nbformat": 4,
 "nbformat_minor": 4
}
