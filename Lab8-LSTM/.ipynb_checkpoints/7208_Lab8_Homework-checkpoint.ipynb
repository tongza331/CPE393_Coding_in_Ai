{
 "cells": [
  {
   "cell_type": "markdown",
   "metadata": {
    "id": "jomGrnTqvzY2"
   },
   "source": [
    "# Lab 8: Training Deep Recurrent Neural Network - Part 2\n",
    "\n",
    "Patcharaporn Sirimom, 62070507208<br>\n",
    "\n",
    "**Note: Please name your file**\n",
    "\n",
    "## Lab Instruction - Language Modelling and Text Classification\n",
    "\n",
    "In this lab, you will learn to train a deep recurrent neural network using LSTM with the Keras library using the Tensorflow backend. Your task is to implement the natural language modelling and text generation.\n",
    "\n",
    "Select your favourite book from https://www.gutenberg.org/browse/scores/top and download it as a text file. Then, you will train your language model using RNN-LSTM. \n",
    "\n",
    "- Language model (in Thai): http://bit.ly/language_model_1\n",
    "- Tutorial on how to create a language model (in English): https://medium.com/@shivambansal36/language-modelling-text-generation-using-lstms-deep-learning-for-nlp-ed36b224b275\n",
    "\n",
    "To evaluate the model, the perplexity measurement is used: https://stats.stackexchange.com/questions/10302/what-is-perplexity\n",
    "\n",
    "Last, fine-tune your model. You have to try different hyperparameter or adding more data. Discuss your result.\n",
    "\n",
    "\n",
    "\n",
    "**The total lab score is 15 which will be evaluated as follows:**</br>\n",
    "1. Specification (Do as the instruction said. This include the model tuning section where you have to do a proper amount of tuning) - 7 points\n",
    "2. Design of logic (No weired things in the process) -  4points\n",
    "3. Journaling (Communicate your thought process, comment your code, and discuss result & analyse **in every step**) - 4 points\n",
    "\n"
   ]
  },
  {
   "cell_type": "markdown",
   "metadata": {
    "id": "mwoJBrLKvzY6"
   },
   "source": [
    "#### 1. Load your data "
   ]
  },
  {
   "cell_type": "code",
   "execution_count": 1,
   "metadata": {
    "id": "bcWCFsnfvzY7"
   },
   "outputs": [],
   "source": [
    "# Import require library\n",
    "from keras import *\n",
    "from keras.preprocessing import text\n",
    "from keras.preprocessing import sequence\n",
    "from sklearn.model_selection import train_test_split\n",
    "\n",
    "import _utils as fn\n",
    "import numpy as np\n",
    "import pandas as pd\n",
    "import matplotlib.pyplot as plt\n",
    "from tensorflow import keras"
   ]
  },
  {
   "cell_type": "code",
   "execution_count": 2,
   "metadata": {},
   "outputs": [],
   "source": [
    "# Load data\n",
    "import csv\n",
    "\n",
    "# Load data\n",
    "file = open(\"./the_jungle_book.txt\",\"r\",encoding=\"utf8\", errors='ignore')\n",
    "raw_text = file.read()"
   ]
  },
  {
   "cell_type": "code",
   "execution_count": 3,
   "metadata": {},
   "outputs": [
    {
     "data": {
      "text/plain": [
       "'Mowgli’s Brothers\\n\\n     Now Rann the Kite brings home the night\\n        That Mang the Bat sets free--\\n     The herds are shut in byre and hut\\n        For loosed till dawn are we.\\n     This is the hour of pride and power,\\n        Talon and tush and claw.\\n     Oh, hear the call!--Good hunting all\\n        That keep the Jungle Law!\\n     Night-Song in the Jungle\\n\\nIt was seven o’clock of a very warm evening in the Seeonee hills when\\nFather Wolf woke up from his day’s rest, scratched himself, yawned, and\\nspread out his paws one after the other to get rid of the sleepy feeling\\nin their tips. Mother Wolf lay with her big gray nose dropped across her\\nfour tumbling, squealing cubs, and the moon shone into the mouth of the\\ncave where they all lived. “Augrh!” said Father Wolf. “It is time to\\nhunt again.” He was going to spring down hill when a little shadow with\\na bushy tail crossed the threshold and whined: “Good luck go with you, O\\nChief of the Wolves. And good luck and strong white teeth go with'"
      ]
     },
     "execution_count": 3,
     "metadata": {},
     "output_type": "execute_result"
    }
   ],
   "source": [
    "raw_text[:1000]"
   ]
  },
  {
   "cell_type": "code",
   "execution_count": 4,
   "metadata": {},
   "outputs": [],
   "source": [
    "chars = sorted(list(set(raw_text)))"
   ]
  },
  {
   "cell_type": "code",
   "execution_count": 5,
   "metadata": {},
   "outputs": [
    {
     "name": "stdout",
     "output_type": "stream",
     "text": [
      "Total characters:  75\n",
      "Total word:  50788\n"
     ]
    }
   ],
   "source": [
    "print(\"Total characters: \", len(chars))\n",
    "print(\"Total word: \", len(raw_text.split()))"
   ]
  },
  {
   "cell_type": "markdown",
   "metadata": {
    "id": "qksGjaIJvzZJ"
   },
   "source": [
    "#### 2. Data Preprocessing \n",
    "\n",
    "*Note that only story will be used as a dataset, footnote and creddit are not include.*\n",
    "\n",
    "The symbol '\\n' is indicated the end of the line ``<EOS>``, which is for our model to end the sentence here.\n",
    "\n",
    "To create a corpus for your model. The following code is can be used:</br>\n",
    "*Note that other techniques can be used*\n",
    "\n",
    "```python\n",
    "# cut the text in semi-redundant sequences of maxlen characters.\n",
    "for i in range(0, len(text) - maxlen, step):\n",
    "    sentences.append(text[i: i + maxlen])\n",
    "    next_chars.append(text[i + maxlen])\n",
    "```\n",
    "\n",
    "The code loop through the data from first word to the last word. The maxlen define a next n word for a model to predict.\n"
   ]
  },
  {
   "cell_type": "code",
   "execution_count": 6,
   "metadata": {},
   "outputs": [],
   "source": [
    "from keras.utils import pad_sequences"
   ]
  },
  {
   "cell_type": "code",
   "execution_count": 7,
   "metadata": {},
   "outputs": [
    {
     "data": {
      "text/plain": [
       "'Mowgli’s Brothers <EOS>      Now Rann the Kite brings home the night\\n        That Mang the Bat sets free--\\n     The herds are shut in byre and hut\\n        For loosed till dawn are we.\\n     This is the hour of pride and power,\\n        Talon and tush and claw.\\n     Oh, hear the call!--Good hunting all\\n        That keep the Jungle Law!\\n     Night-Song in the Jungle <EOS> It was seven o’clock of a very warm evening in the Seeonee hills when\\nFather Wolf woke up from his day’s rest, scratched himself, yawned, and\\nspread out his paws one after the other to get rid of the sleepy feeling\\nin their tips. Mother Wolf lay with her big gray nose dropped across her\\nfour tumbling, squealing cubs, and the moon shone into the mouth of the\\ncave where they all lived. “Augrh!” said Father Wolf. “It is time to\\nhunt again.” He was going to spring down hill when a little shadow with\\na bushy tail crossed the threshold and whined: “Good luck go with you, O\\nChief of the Wolves. And good luck and strong white tee'"
      ]
     },
     "execution_count": 7,
     "metadata": {},
     "output_type": "execute_result"
    }
   ],
   "source": [
    "# Adding end of string symbol use .replace   to replace data_text with  [  \\n\\n', \" <EOS> \" ]\n",
    "raw_text = raw_text.replace('\\n\\n', \" <EOS> \")\n",
    "raw_text[:1000]"
   ]
  },
  {
   "cell_type": "code",
   "execution_count": 8,
   "metadata": {},
   "outputs": [],
   "source": [
    "# Preprocessing and create corpus\n",
    "\n",
    "tokenizer = text.Tokenizer()\n",
    "\n",
    "# basic cleanup\n",
    "corpus = raw_text.lower().split(\"\\n\")\n",
    "\n",
    "\n",
    "# tokenization\n",
    "tokenizer.fit_on_texts(corpus)\n",
    "total_words = len(tokenizer.word_index) + 1\n",
    "\n",
    "# create input sequences using list of tokens\n",
    "input_sequences = []\n",
    "for line in corpus:\n",
    "    token_list = tokenizer.texts_to_sequences([line])[0]\n",
    "    for i in range(1, len(token_list)):\n",
    "        n_gram_sequence = token_list[:i+1]\n",
    "        input_sequences.append(n_gram_sequence)\n",
    "\n",
    "# pad sequences \n",
    "max_sequence_len = max([len(x) for x in input_sequences])\n",
    "\n",
    "# Pre padding \n",
    "input_sequences = np.array(pad_sequences(input_sequences, maxlen=max_sequence_len, padding='pre'))\n",
    "\n",
    "# create predictors and label\n",
    "predictors, label = input_sequences[:,:-1],input_sequences[:,-1]\n",
    "\n",
    "# One-hot label\n",
    "label = keras.utils.to_categorical(label, num_classes=total_words)"
   ]
  },
  {
   "cell_type": "code",
   "execution_count": 9,
   "metadata": {},
   "outputs": [
    {
     "data": {
      "text/plain": [
       "(50297, 64)"
      ]
     },
     "execution_count": 9,
     "metadata": {},
     "output_type": "execute_result"
    }
   ],
   "source": [
    "predictors.shape"
   ]
  },
  {
   "cell_type": "code",
   "execution_count": 10,
   "metadata": {},
   "outputs": [
    {
     "data": {
      "text/plain": [
       "(50297, 4955)"
      ]
     },
     "execution_count": 10,
     "metadata": {},
     "output_type": "execute_result"
    }
   ],
   "source": [
    "label.shape"
   ]
  },
  {
   "cell_type": "code",
   "execution_count": 11,
   "metadata": {},
   "outputs": [
    {
     "data": {
      "text/plain": [
       "array([  0,   0,   0,   0,   0,   0,   0,   0,   0,   0,   0,   0,   0,\n",
       "         0,   0,   0,   0,   0,   0,   0,   0,   0,   0,   0,   0,   0,\n",
       "         0,   0,   0,   0,   0,   0,   0,   0,   0,   0,   0,   0,   0,\n",
       "         0,   0,   0,   0,   0,   0,   0,   0,   0,   0,   0,   0,   0,\n",
       "         0,   0,   0,   0,   0,   0,   0,   0,   0,   0,   0, 499])"
      ]
     },
     "execution_count": 11,
     "metadata": {},
     "output_type": "execute_result"
    }
   ],
   "source": [
    "predictors[0]"
   ]
  },
  {
   "cell_type": "code",
   "execution_count": 12,
   "metadata": {},
   "outputs": [
    {
     "data": {
      "text/plain": [
       "array([0., 0., 0., ..., 0., 0., 0.], dtype=float32)"
      ]
     },
     "execution_count": 12,
     "metadata": {},
     "output_type": "execute_result"
    }
   ],
   "source": [
    "label[0]"
   ]
  },
  {
   "cell_type": "markdown",
   "metadata": {
    "id": "c-ry6hn0vzZc"
   },
   "source": [
    "#### 3. Language Model\n",
    "\n",
    "Define RNN model using LSTM and word embedding representation</br>\n",
    "We will used perplexity as a metrics\n",
    "\n",
    "```python\n",
    "def perplexity(y_true, y_pred):\n",
    "    cross_entropy = keras.backend.categorical_crossentropy(y_true, y_pred)\n",
    "    perplexity = keras.backend.pow(2.0, cross_entropy)\n",
    "    return perplexity\n",
    "```\n",
    "\n",
    "To used custom metrics function > https://keras.io/metrics/\n",
    "\n",
    "For a loss function `categorical_crossentropy` is used, any optimzation method can be applied."
   ]
  },
  {
   "cell_type": "markdown",
   "metadata": {
    "id": "wvwPzZo8uJXv"
   },
   "source": [
    "\n",
    "In this lab, we will used perplexity as a metrics\n",
    "\n",
    "\n",
    "```\n",
    "def perplexity(y_true, y_pred):\n",
    "    cross_entropy = keras.backend.categorical_crossentropy(y_true, y_pred)\n",
    "    perplexity = keras.backend.pow(2.0, cross_entropy)\n",
    "    return perplexity\n",
    "```\n",
    "\n",
    "\n",
    "To used custom metrics function > https://keras.io/metrics/"
   ]
  },
  {
   "cell_type": "code",
   "execution_count": 13,
   "metadata": {},
   "outputs": [],
   "source": [
    "from matplotlib import pyplot as plt\n",
    "#plot the training and validation accuracy and loss at each epoch\n",
    "def plot_graph(history):\n",
    "    loss = history.history['loss']\n",
    "    # val_loss = history.history['val_loss']\n",
    "    epochs = range(1, len(loss) + 1)\n",
    "    plt.plot(epochs, loss, 'r', label='Training loss')\n",
    "    # plt.plot(epochs, val_loss, 'b', label='Training loss')\n",
    "    plt.title('Loss')\n",
    "    plt.xlabel('Epochs')\n",
    "    plt.ylabel('Loss')\n",
    "    plt.legend()\n",
    "    plt.show()\n",
    "    \n",
    "    perplexity = history.history['perplexity']\n",
    "    # val_perplexity = history.history['val_perplexity']\n",
    "    epochs = range(1, len(perplexity) + 1)\n",
    "    plt.plot(epochs, perplexity, 'b', label='Validation perplexity')\n",
    "    # plt.plot(epochs, val_perplexity, 'b', label='Validation perplexity')\n",
    "    plt.title('Perplexity')\n",
    "    plt.xlabel('Epochs')\n",
    "    plt.ylabel('perplexity')\n",
    "    plt.legend()\n",
    "    plt.show()"
   ]
  },
  {
   "cell_type": "code",
   "execution_count": 14,
   "metadata": {},
   "outputs": [],
   "source": [
    "from keras.layers import Embedding \n",
    "from keras.layers import LSTM\n",
    "from keras.layers import Dropout \n",
    "from keras.layers import Dense\n",
    "from keras.layers import Bidirectional\n",
    "import keras.backend "
   ]
  },
  {
   "cell_type": "code",
   "execution_count": 15,
   "metadata": {
    "id": "xDOBkmNYvzZf"
   },
   "outputs": [],
   "source": [
    "def perplexity(y_true, y_pred):\n",
    "    cross_entropy = keras.backend.categorical_crossentropy(y_true, y_pred)\n",
    "    perplexity = keras.backend.pow(2.0, cross_entropy)\n",
    "    return perplexity"
   ]
  },
  {
   "cell_type": "markdown",
   "metadata": {
    "tags": []
   },
   "source": [
    "#### 3.1 LSTM - Baseline"
   ]
  },
  {
   "cell_type": "code",
   "execution_count": 16,
   "metadata": {},
   "outputs": [
    {
     "name": "stdout",
     "output_type": "stream",
     "text": [
      "Model: \"sequential\"\n",
      "_________________________________________________________________\n",
      " Layer (type)                Output Shape              Param #   \n",
      "=================================================================\n",
      " Embedding (Embedding)       (None, 64, 512)           2536960   \n",
      "                                                                 \n",
      " LSTM1 (LSTM)                (None, 64, 512)           2099200   \n",
      "                                                                 \n",
      " LSTM2 (LSTM)                (None, 256)               787456    \n",
      "                                                                 \n",
      " Output (Dense)              (None, 4955)              1273435   \n",
      "                                                                 \n",
      "=================================================================\n",
      "Total params: 6,697,051\n",
      "Trainable params: 6,697,051\n",
      "Non-trainable params: 0\n",
      "_________________________________________________________________\n"
     ]
    }
   ],
   "source": [
    "# Define your model\n",
    "# Used Word Embedding  \n",
    "model1 = models.Sequential()\n",
    "model1.add(layers.Embedding(total_words, 512,input_length=max_sequence_len-1,name='Embedding'))\n",
    "model1.add(layers.LSTM(512, kernel_initializer = 'he_normal',activation='tanh',\n",
    "                      dropout=0.3,\n",
    "                      return_sequences=True,\n",
    "                     name='LSTM1'))\n",
    "model1.add(layers.LSTM(256, kernel_initializer = 'he_normal',activation='tanh',\n",
    "                     dropout=0.3,\n",
    "                     name='LSTM2'))\n",
    "model1.add(layers.Dense(total_words, activation='softmax',name='Output'))\n",
    "\n",
    "model1.compile(optimizer='adam',loss='categorical_crossentropy', metrics=[perplexity])\n",
    "model1.summary()"
   ]
  },
  {
   "cell_type": "code",
   "execution_count": 17,
   "metadata": {
    "scrolled": true,
    "tags": []
   },
   "outputs": [
    {
     "name": "stdout",
     "output_type": "stream",
     "text": [
      "Epoch 1/20\n",
      "1572/1572 [==============================] - 86s 51ms/step - loss: 6.2599 - perplexity: 466.1727\n",
      "Epoch 2/20\n",
      "1572/1572 [==============================] - 76s 48ms/step - loss: 5.6773 - perplexity: 280.4606\n",
      "Epoch 3/20\n",
      "1572/1572 [==============================] - 71s 45ms/step - loss: 5.3384 - perplexity: 173.9699\n",
      "Epoch 4/20\n",
      "1572/1572 [==============================] - 71s 45ms/step - loss: 5.0637 - perplexity: 123.9945\n",
      "Epoch 5/20\n",
      "1572/1572 [==============================] - 71s 45ms/step - loss: 4.8282 - perplexity: 93.7878\n",
      "Epoch 6/20\n",
      "1572/1572 [==============================] - 71s 45ms/step - loss: 4.5954 - perplexity: 71.4435\n",
      "Epoch 7/20\n",
      "1572/1572 [==============================] - 71s 45ms/step - loss: 4.3775 - perplexity: 56.0979\n",
      "Epoch 8/20\n",
      "1572/1572 [==============================] - 71s 45ms/step - loss: 4.1752 - perplexity: 45.7503\n",
      "Epoch 9/20\n",
      "1572/1572 [==============================] - 72s 46ms/step - loss: 3.9822 - perplexity: 38.5561\n",
      "Epoch 10/20\n",
      "1572/1572 [==============================] - 71s 45ms/step - loss: 3.7987 - perplexity: 33.5669\n",
      "Epoch 11/20\n",
      "1572/1572 [==============================] - 71s 45ms/step - loss: 3.6265 - perplexity: 29.3640\n",
      "Epoch 12/20\n",
      "1572/1572 [==============================] - 71s 45ms/step - loss: 3.4595 - perplexity: 26.2618\n",
      "Epoch 13/20\n",
      "1572/1572 [==============================] - 71s 45ms/step - loss: 3.3045 - perplexity: 23.4518\n",
      "Epoch 14/20\n",
      "1572/1572 [==============================] - 71s 45ms/step - loss: 3.1592 - perplexity: 21.1357\n",
      "Epoch 15/20\n",
      "1572/1572 [==============================] - 72s 45ms/step - loss: 3.0262 - perplexity: 19.5205\n",
      "Epoch 16/20\n",
      "1572/1572 [==============================] - 72s 46ms/step - loss: 2.8991 - perplexity: 18.1487\n",
      "Epoch 17/20\n",
      "1572/1572 [==============================] - 73s 46ms/step - loss: 2.7765 - perplexity: 16.6192\n",
      "Epoch 18/20\n",
      "1572/1572 [==============================] - 71s 45ms/step - loss: 2.6739 - perplexity: 15.6852\n",
      "Epoch 19/20\n",
      "1572/1572 [==============================] - 71s 45ms/step - loss: 2.5586 - perplexity: 14.5804\n",
      "Epoch 20/20\n",
      "1572/1572 [==============================] - 71s 45ms/step - loss: 2.4548 - perplexity: 13.4207\n"
     ]
    }
   ],
   "source": [
    "history1 = model1.fit(predictors, label, batch_size=32, epochs=20)"
   ]
  },
  {
   "cell_type": "code",
   "execution_count": 18,
   "metadata": {},
   "outputs": [
    {
     "data": {
      "image/png": "[encoded data removed]",
      "text/plain": [
       "<Figure size 640x480 with 1 Axes>"
      ]
     },
     "metadata": {},
     "output_type": "display_data"
    },
    {
     "data": {
      "image/png": "[encoded data removed]",
      "text/plain": [
       "<Figure size 640x480 with 1 Axes>"
      ]
     },
     "metadata": {},
     "output_type": "display_data"
    }
   ],
   "source": [
    "plot_graph(history1)"
   ]
  },
  {
   "cell_type": "code",
   "execution_count": 19,
   "metadata": {},
   "outputs": [],
   "source": [
    "model1.save('LSTM_jungle_book_baseline.h5')"
   ]
  },
  {
   "cell_type": "markdown",
   "metadata": {},
   "source": [
    "#### Try out different hyperparameter & model architecture"
   ]
  },
  {
   "cell_type": "markdown",
   "metadata": {
    "tags": []
   },
   "source": [
    "#### 3.2 Try Bi-LSTM"
   ]
  },
  {
   "cell_type": "code",
   "execution_count": 32,
   "metadata": {},
   "outputs": [
    {
     "name": "stdout",
     "output_type": "stream",
     "text": [
      "Model: \"sequential_2\"\n",
      "_________________________________________________________________\n",
      " Layer (type)                Output Shape              Param #   \n",
      "=================================================================\n",
      " Embedding (Embedding)       (None, 64, 256)           1268480   \n",
      "                                                                 \n",
      " bidirectional_2 (Bidirectio  (None, 64, 512)          1050624   \n",
      " nal)                                                            \n",
      "                                                                 \n",
      " bidirectional_3 (Bidirectio  (None, 512)              1574912   \n",
      " nal)                                                            \n",
      "                                                                 \n",
      " Output (Dense)              (None, 4955)              2541915   \n",
      "                                                                 \n",
      "=================================================================\n",
      "Total params: 6,435,931\n",
      "Trainable params: 6,435,931\n",
      "Non-trainable params: 0\n",
      "_________________________________________________________________\n"
     ]
    }
   ],
   "source": [
    "model2 = models.Sequential()\n",
    "model2.add(layers.Embedding(total_words,256,input_length=max_sequence_len-1,name='Embedding'))\n",
    "model2.add(layers.Bidirectional(layers.LSTM(256, kernel_initializer = 'he_normal',\n",
    "                      dropout=0.3,\n",
    "                      return_sequences=True,\n",
    "                     name='LSTM1')))\n",
    "model2.add(layers.Bidirectional(layers.LSTM(256, kernel_initializer = 'he_normal',\n",
    "                     dropout=0.3,\n",
    "                     name='LSTM2')))\n",
    "model2.add(layers.Dense(total_words, activation='softmax',name='Output'))\n",
    "\n",
    "model2.compile(optimizer='adam',loss='categorical_crossentropy', metrics=[perplexity])\n",
    "model2.summary()"
   ]
  },
  {
   "cell_type": "code",
   "execution_count": 33,
   "metadata": {
    "scrolled": true,
    "tags": []
   },
   "outputs": [
    {
     "name": "stdout",
     "output_type": "stream",
     "text": [
      "Epoch 1/20\n",
      "1572/1572 [==============================] - 87s 52ms/step - loss: 6.1863 - perplexity: 479.9771\n",
      "Epoch 2/20\n",
      "1572/1572 [==============================] - 82s 52ms/step - loss: 5.5525 - perplexity: 246.7997\n",
      "Epoch 3/20\n",
      "1572/1572 [==============================] - 80s 51ms/step - loss: 5.2188 - perplexity: 157.1355\n",
      "Epoch 4/20\n",
      "1572/1572 [==============================] - 80s 51ms/step - loss: 4.9584 - perplexity: 112.1880\n",
      "Epoch 5/20\n",
      "1572/1572 [==============================] - 80s 51ms/step - loss: 4.7279 - perplexity: 85.2634\n",
      "Epoch 6/20\n",
      "1572/1572 [==============================] - 80s 51ms/step - loss: 4.5118 - perplexity: 67.1068\n",
      "Epoch 7/20\n",
      "1572/1572 [==============================] - 79s 51ms/step - loss: 4.3256 - perplexity: 56.7807\n",
      "Epoch 8/20\n",
      "1572/1572 [==============================] - 79s 50ms/step - loss: 4.1048 - perplexity: 45.4588\n",
      "Epoch 9/20\n",
      "1572/1572 [==============================] - 79s 50ms/step - loss: 3.9168 - perplexity: 39.3061\n",
      "Epoch 10/20\n",
      "1572/1572 [==============================] - 79s 50ms/step - loss: 3.7355 - perplexity: 34.1656\n",
      "Epoch 11/20\n",
      "1572/1572 [==============================] - 79s 50ms/step - loss: 3.5706 - perplexity: 30.1117\n",
      "Epoch 12/20\n",
      "1572/1572 [==============================] - 79s 50ms/step - loss: 3.4148 - perplexity: 27.0985\n",
      "Epoch 13/20\n",
      "1572/1572 [==============================] - 79s 50ms/step - loss: 3.2603 - perplexity: 24.2703\n",
      "Epoch 14/20\n",
      "1572/1572 [==============================] - 79s 50ms/step - loss: 3.1221 - perplexity: 22.3039\n",
      "Epoch 15/20\n",
      "1572/1572 [==============================] - 79s 50ms/step - loss: 2.9931 - perplexity: 20.3000\n",
      "Epoch 16/20\n",
      "1572/1572 [==============================] - 79s 50ms/step - loss: 2.8730 - perplexity: 18.7634\n",
      "Epoch 17/20\n",
      "1572/1572 [==============================] - 79s 51ms/step - loss: 2.7529 - perplexity: 17.2367\n",
      "Epoch 18/20\n",
      "1572/1572 [==============================] - 79s 51ms/step - loss: 2.6498 - perplexity: 16.3910\n",
      "Epoch 19/20\n",
      "1572/1572 [==============================] - 79s 50ms/step - loss: 2.5454 - perplexity: 15.0139\n",
      "Epoch 20/20\n",
      "1572/1572 [==============================] - 79s 50ms/step - loss: 2.4513 - perplexity: 14.1179\n"
     ]
    }
   ],
   "source": [
    "history2 = model2.fit(predictors, label,batch_size=32, epochs=20)"
   ]
  },
  {
   "cell_type": "code",
   "execution_count": 34,
   "metadata": {},
   "outputs": [
    {
     "data": {
      "image/png": "[encoded data removed]",
      "text/plain": [
       "<Figure size 640x480 with 1 Axes>"
      ]
     },
     "metadata": {},
     "output_type": "display_data"
    },
    {
     "data": {
      "image/png": "[encoded data removed]",
      "text/plain": [
       "<Figure size 640x480 with 1 Axes>"
      ]
     },
     "metadata": {},
     "output_type": "display_data"
    }
   ],
   "source": [
    "plot_graph(history2)"
   ]
  },
  {
   "cell_type": "code",
   "execution_count": 35,
   "metadata": {},
   "outputs": [],
   "source": [
    "model2.save('LSTM_jungle_book_Bi-LSTM.h5')"
   ]
  },
  {
   "cell_type": "markdown",
   "metadata": {
    "id": "-uZwRT6RvzZu"
   },
   "source": [
    "#### 4. Evaluate your model "
   ]
  },
  {
   "cell_type": "code",
   "execution_count": 20,
   "metadata": {},
   "outputs": [],
   "source": [
    "# Create a function to evaluate your model using perplexity measurment (You can try adding other measurements as well)\n",
    "def evaluate_result(features, label, model):\n",
    "    model.evaluate(features, label)"
   ]
  },
  {
   "cell_type": "code",
   "execution_count": 21,
   "metadata": {},
   "outputs": [],
   "source": [
    "from keras.models import load_model"
   ]
  },
  {
   "cell_type": "code",
   "execution_count": 22,
   "metadata": {},
   "outputs": [],
   "source": [
    "model_baseline = load_model('./LSTM_jungle_book_baseline.h5', custom_objects={\"perplexity\": perplexity })"
   ]
  },
  {
   "cell_type": "code",
   "execution_count": 23,
   "metadata": {},
   "outputs": [
    {
     "name": "stdout",
     "output_type": "stream",
     "text": [
      "1572/1572 [==============================] - 30s 19ms/step - loss: 1.9894 - perplexity: 9.0160\n"
     ]
    }
   ],
   "source": [
    "# Evaluate 3.1\n",
    "evaluate_result(predictors, label, model_baseline)"
   ]
  },
  {
   "cell_type": "code",
   "execution_count": 36,
   "metadata": {},
   "outputs": [],
   "source": [
    "model_bilstm = load_model('./LSTM_jungle_book_Bi-LSTM.h5', custom_objects={\"perplexity\": perplexity })"
   ]
  },
  {
   "cell_type": "code",
   "execution_count": 37,
   "metadata": {},
   "outputs": [
    {
     "name": "stdout",
     "output_type": "stream",
     "text": [
      "1572/1572 [==============================] - 33s 20ms/step - loss: 1.9120 - perplexity: 8.8316\n"
     ]
    }
   ],
   "source": [
    "# Evaluate 3.2\n",
    "evaluate_result(predictors, label, model_bilstm)"
   ]
  },
  {
   "cell_type": "markdown",
   "metadata": {
    "tags": []
   },
   "source": [
    "#### Discussion"
   ]
  },
  {
   "cell_type": "markdown",
   "metadata": {},
   "source": [
    "I have to try two model shown in section 3.1 and section 3.2. \n",
    "The model in section 3.1 is baseline model that i create architecture from in-class and use tanh activation function.\n",
    "And the model in section 3.2, I try different model architecture, I used Bidirectional LSTMs to create it.\n",
    "Bi-LSTM can be used to train two sides, instead of one side of the input sequence (look word past and future. but LSTM look past word only)\n",
    "\n",
    "**The Result:**\n",
    "I consider in LSTM and Bi-LSTM perplexity graph that perplexity in Bi-LSTM can reduce perplexity faster than LSTM. "
   ]
  },
  {
   "cell_type": "markdown",
   "metadata": {
    "id": "XCU3FZjsvzZy"
   },
   "source": [
    "#### 5. Text generating"
   ]
  },
  {
   "cell_type": "code",
   "execution_count": 38,
   "metadata": {
    "id": "jAd1Kdl3vzZz"
   },
   "outputs": [],
   "source": [
    "def generate_text(seedtext, next_words, max_sequence_len, model):\n",
    "  for j in range(next_words):\n",
    "    token_list = tokenizer.texts_to_sequences([seedtext])[0]\n",
    "    token_list = pad_sequences([token_list], maxlen=max_sequence_len-1, padding='pre')\n",
    "    #predicted = model.predict_classes(token_list, verbose=0)\n",
    "    predict_x=model.predict(token_list, verbose=0) \n",
    "    predicted =np.argmax(predict_x,axis=1)\n",
    "\n",
    "    output_word = \"\"\n",
    "    for word, index in tokenizer.word_index.items():\n",
    "      if index == predicted:\n",
    "        output_word = word\n",
    "        break\n",
    "    seedtext +=\" \" + output_word\n",
    "  return seedtext"
   ]
  },
  {
   "cell_type": "code",
   "execution_count": 39,
   "metadata": {
    "colab": {
     "base_uri": "https://localhost:8080/"
    },
    "id": "yC3AVscmvzZ4",
    "outputId": "c601d25e-1aac-418c-dcfe-cbfd4cb60a37",
    "tags": []
   },
   "outputs": [],
   "source": [
    "# generate your sample text with model Baseline\n",
    "seed_text = 'Mowgli'\n",
    "#generate_text , Input , Num_next_word,Max_sequence,Model\n",
    "gen_text = generate_text(seed_text,20,max_sequence_len,model_baseline)"
   ]
  },
  {
   "cell_type": "code",
   "execution_count": 40,
   "metadata": {},
   "outputs": [
    {
     "data": {
      "text/plain": [
       "'Mowgli hauled out his forepaws hugged as loud as he could reach and skirmishing in the garden and he wished that'"
      ]
     },
     "execution_count": 40,
     "metadata": {},
     "output_type": "execute_result"
    }
   ],
   "source": [
    "gen_text"
   ]
  },
  {
   "cell_type": "code",
   "execution_count": 41,
   "metadata": {},
   "outputs": [],
   "source": [
    "# generate your sample text with model Bi-LSTM\n",
    "seed_text = 'Mowgli'\n",
    "#generate_text , Input , Num_next_word,Max_sequence,Model\n",
    "gen_text = generate_text(seed_text,20,max_sequence_len,model_bilstm)"
   ]
  },
  {
   "cell_type": "code",
   "execution_count": 42,
   "metadata": {},
   "outputs": [
    {
     "data": {
      "text/plain": [
       "'Mowgli inside him as he could walk and the holluschickie played anywhere he would be a man and a little boy'"
      ]
     },
     "execution_count": 42,
     "metadata": {},
     "output_type": "execute_result"
    }
   ],
   "source": [
    "gen_text"
   ]
  },
  {
   "cell_type": "markdown",
   "metadata": {
    "id": "mNoHjlejvzaB"
   },
   "source": [
    "####[Speacial] 7. Help your model to generate a short story \n",
    "\n",
    "**Example** https://medium.com/deep-writing/harry-potter-written-by-artificial-intelligence-8a9431803da6\n",
    "\n",
    "Write your result in a `markdown` cell"
   ]
  },
  {
   "cell_type": "markdown",
   "metadata": {},
   "source": [
    "### 7. Generating story"
   ]
  },
  {
   "cell_type": "code",
   "execution_count": 47,
   "metadata": {},
   "outputs": [
    {
     "name": "stdout",
     "output_type": "stream",
     "text": [
      "The wolves runs and hides when i am starved coat ” eos the sea cows had been caught by the seeonee wolf pack and bagheera and nagaina and left and he knew that he had never been born in the jungle ” eos the sea cows had separated and he knew that he had never been under bagheera’s silky and looked at the evening that he he is he “they” is the jungle he is not tight wrapped by the basking shark and the saplings and the wrinkled skin are the pack yelled “a little native king’s elephant lines to the village as fast as he could walk and he thumped and the mad rush and blaze and hullabaloo of the water blew his he was the jungle people the new elephant catchers the big man had done a little promise he is smaller than a month and a man should come down and the bear is large and the big man had owned to the jungle people they have done a little promise that takes a pension at the doorways of a man to do with the pack and i have to do with the pack and i am a man\n"
     ]
    }
   ],
   "source": [
    "seed_text = 'The wolves'\n",
    "gen_story = generate_text(seed_text,200,max_sequence_len,model_bilstm)\n",
    "print(gen_story)"
   ]
  },
  {
   "cell_type": "code",
   "execution_count": 48,
   "metadata": {},
   "outputs": [
    {
     "name": "stdout",
     "output_type": "stream",
     "text": [
      "The happinest of mowgli the monkeys lived but he is asleep he is not afraid of the pack and i have been to climb out ” said mowgli “i am not going back to the village gate he is always very clever that jingled ” said mowgli feeling round the melon bed near the wall jumped up the other “wow i don’t trust your friends have a man ” said he “all this was done last night he is eaten in the jungle ” said the he he he had a little pride “but he is he could not tell me lift the jungle people ” eos he had been bobbing to the house “oh he is a he he is a man a man ” said the troop horse eos he was a man a little time i try not be a man ” said the he “teddy’s safer with his eyes as he is he could not tell me lift the he he is a man he is not a very bad he is eaten done ” said the troop horse eos “i’ll leave you ” he said to himself “i suppose you do not know that i have he steals the\n"
     ]
    }
   ],
   "source": [
    "seed_text = 'The happinest of mowgli'\n",
    "gen_story = generate_text(seed_text,200,max_sequence_len,model_bilstm)\n",
    "print(gen_story)"
   ]
  },
  {
   "cell_type": "markdown",
   "metadata": {},
   "source": [
    "**Discussion:** The output is not perfect as for training we took only a few lines of text. Maybe I have to try other regularizer, learning rate, improve the model with more epochs, more text or architecture, and adding attention layers."
   ]
  },
  {
   "cell_type": "markdown",
   "metadata": {
    "id": "fLz1ABUgvzaI"
   },
   "source": [
    "### More on Natural language Processing and Language model\n",
    "1. https://medium.com/@ageitgey/natural-language-processing-is-fun-9a0bff37854e \n",
    "2. https://medium.com/phrasee/neural-text-generation-generating-text-using-conditional-language-models-a37b69c7cd4b\n",
    "3. http://karpathy.github.io/2015/05/21/rnn-effectiveness/\n",
    "\n",
    "**Music generates by RNN**\n",
    "https://soundcloud.com/optometrist-prime/recurrence-music-written-by-a-recurrent-neural-network\n"
   ]
  }
 ],
 "metadata": {
  "accelerator": "GPU",
  "colab": {
   "collapsed_sections": [],
   "name": "Lab8_Homework.ipynb",
   "provenance": []
  },
  "kernelspec": {
   "display_name": "tf",
   "language": "python",
   "name": "tf"
  },
  "language_info": {
   "codemirror_mode": {
    "name": "ipython",
    "version": 3
   },
   "file_extension": ".py",
   "mimetype": "text/x-python",
   "name": "python",
   "nbconvert_exporter": "python",
   "pygments_lexer": "ipython3",
   "version": "3.9.0"
  }
 },
 "nbformat": 4,
 "nbformat_minor": 4
}
